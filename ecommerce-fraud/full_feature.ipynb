{
 "cells": [
  {
   "cell_type": "markdown",
   "metadata": {},
   "source": [
    "# Ecommerce fraud challenge"
   ]
  },
  {
   "cell_type": "markdown",
   "metadata": {},
   "source": [
    "This notebook contians Ravelin data science challenge. Given the very small dataset size, model selection has to be taken very lightly as results are highly influenced by the random component of train/test splits.  \n",
    "Data can be found in the `dataset/` folder or in the [original repo](https://github.com/unravelin/code-test-data-science)."
   ]
  },
  {
   "cell_type": "code",
   "execution_count": 42,
   "metadata": {},
   "outputs": [],
   "source": [
    "import json\n",
    "import re\n",
    "import pandas as pd\n",
    "import numpy as np\n",
    "\n",
    "from collections import Counter\n",
    "from imblearn.over_sampling import SMOTE\n",
    "from feature_utils import *\n",
    "import pickle\n",
    "from sklearn.compose import ColumnTransformer\n",
    "from sklearn.feature_extraction import DictVectorizer\n",
    "from sklearn.preprocessing import (\n",
    "    LabelBinarizer,\n",
    "    OneHotEncoder,\n",
    "    Binarizer,\n",
    "    RobustScaler\n",
    ")\n",
    "from sklearn.model_selection import (\n",
    "    train_test_split,\n",
    "    cross_val_score,\n",
    "    StratifiedKFold,\n",
    "    cross_val_predict\n",
    ")\n",
    "from sklearn.linear_model import LogisticRegression\n",
    "from sklearn.metrics import (\n",
    "    classification_report,\n",
    "    accuracy_score,\n",
    "    make_scorer,\n",
    "    roc_curve,\n",
    "    roc_auc_score\n",
    ")\n",
    "from sklearn.ensemble import RandomForestClassifier\n",
    "from sklearn.neighbors import KNeighborsClassifier\n",
    "from imblearn.pipeline import make_pipeline as make_pipeline_imb\n",
    "import matplotlib.pyplot as plt\n",
    "import seaborn as sns"
   ]
  },
  {
   "cell_type": "code",
   "execution_count": 43,
   "metadata": {},
   "outputs": [],
   "source": [
    "data = pd.read_json('dataset/customers.json', lines=True)"
   ]
  },
  {
   "cell_type": "code",
   "execution_count": 44,
   "metadata": {},
   "outputs": [
    {
     "data": {
      "text/html": [
       "<div>\n",
       "<style scoped>\n",
       "    .dataframe tbody tr th:only-of-type {\n",
       "        vertical-align: middle;\n",
       "    }\n",
       "\n",
       "    .dataframe tbody tr th {\n",
       "        vertical-align: top;\n",
       "    }\n",
       "\n",
       "    .dataframe thead th {\n",
       "        text-align: right;\n",
       "    }\n",
       "</style>\n",
       "<table border=\"1\" class=\"dataframe\">\n",
       "  <thead>\n",
       "    <tr style=\"text-align: right;\">\n",
       "      <th></th>\n",
       "      <th>fraudulent</th>\n",
       "      <th>customer</th>\n",
       "      <th>orders</th>\n",
       "      <th>paymentMethods</th>\n",
       "      <th>transactions</th>\n",
       "    </tr>\n",
       "  </thead>\n",
       "  <tbody>\n",
       "    <tr>\n",
       "      <th>0</th>\n",
       "      <td>False</td>\n",
       "      <td>{'customerEmail': 'josephhoward@yahoo.com', 'c...</td>\n",
       "      <td>[{'orderId': 'vjbdvd', 'orderAmount': 18, 'ord...</td>\n",
       "      <td>[{'paymentMethodId': 'wt07xm68b', 'paymentMeth...</td>\n",
       "      <td>[{'transactionId': 'a9lcj51r', 'orderId': 'vjb...</td>\n",
       "    </tr>\n",
       "    <tr>\n",
       "      <th>1</th>\n",
       "      <td>True</td>\n",
       "      <td>{'customerEmail': 'evansjeffery@yahoo.com', 'c...</td>\n",
       "      <td>[{'orderId': 'nlghpa', 'orderAmount': 45, 'ord...</td>\n",
       "      <td>[{'paymentMethodId': 'y3xp697jx', 'paymentMeth...</td>\n",
       "      <td>[{'transactionId': '5mi94sfw', 'orderId': 'nlg...</td>\n",
       "    </tr>\n",
       "    <tr>\n",
       "      <th>2</th>\n",
       "      <td>False</td>\n",
       "      <td>{'customerEmail': 'andersonwilliam@yahoo.com',...</td>\n",
       "      <td>[{'orderId': 'yk34y2', 'orderAmount': 33, 'ord...</td>\n",
       "      <td>[{'paymentMethodId': '8pneoi03z', 'paymentMeth...</td>\n",
       "      <td>[{'transactionId': 'q3lyvbza', 'orderId': 'yk3...</td>\n",
       "    </tr>\n",
       "    <tr>\n",
       "      <th>3</th>\n",
       "      <td>False</td>\n",
       "      <td>{'customerEmail': 'rubenjuarez@yahoo.com', 'cu...</td>\n",
       "      <td>[{'orderId': 'fbz9ep', 'orderAmount': 34, 'ord...</td>\n",
       "      <td>[{'paymentMethodId': 'pdxjdwui4', 'paymentMeth...</td>\n",
       "      <td>[{'transactionId': 'vx4cjc27', 'orderId': 'fbz...</td>\n",
       "    </tr>\n",
       "    <tr>\n",
       "      <th>4</th>\n",
       "      <td>True</td>\n",
       "      <td>{'customerEmail': 'uchen@malone.com', 'custome...</td>\n",
       "      <td>[{'orderId': '56h7iw', 'orderAmount': 71, 'ord...</td>\n",
       "      <td>[{'paymentMethodId': 'w1i1zq3rg', 'paymentMeth...</td>\n",
       "      <td>[{'transactionId': 'q8j3dgni', 'orderId': '56h...</td>\n",
       "    </tr>\n",
       "  </tbody>\n",
       "</table>\n",
       "</div>"
      ],
      "text/plain": [
       "   fraudulent                                           customer  \\\n",
       "0       False  {'customerEmail': 'josephhoward@yahoo.com', 'c...   \n",
       "1        True  {'customerEmail': 'evansjeffery@yahoo.com', 'c...   \n",
       "2       False  {'customerEmail': 'andersonwilliam@yahoo.com',...   \n",
       "3       False  {'customerEmail': 'rubenjuarez@yahoo.com', 'cu...   \n",
       "4        True  {'customerEmail': 'uchen@malone.com', 'custome...   \n",
       "\n",
       "                                              orders  \\\n",
       "0  [{'orderId': 'vjbdvd', 'orderAmount': 18, 'ord...   \n",
       "1  [{'orderId': 'nlghpa', 'orderAmount': 45, 'ord...   \n",
       "2  [{'orderId': 'yk34y2', 'orderAmount': 33, 'ord...   \n",
       "3  [{'orderId': 'fbz9ep', 'orderAmount': 34, 'ord...   \n",
       "4  [{'orderId': '56h7iw', 'orderAmount': 71, 'ord...   \n",
       "\n",
       "                                      paymentMethods  \\\n",
       "0  [{'paymentMethodId': 'wt07xm68b', 'paymentMeth...   \n",
       "1  [{'paymentMethodId': 'y3xp697jx', 'paymentMeth...   \n",
       "2  [{'paymentMethodId': '8pneoi03z', 'paymentMeth...   \n",
       "3  [{'paymentMethodId': 'pdxjdwui4', 'paymentMeth...   \n",
       "4  [{'paymentMethodId': 'w1i1zq3rg', 'paymentMeth...   \n",
       "\n",
       "                                        transactions  \n",
       "0  [{'transactionId': 'a9lcj51r', 'orderId': 'vjb...  \n",
       "1  [{'transactionId': '5mi94sfw', 'orderId': 'nlg...  \n",
       "2  [{'transactionId': 'q3lyvbza', 'orderId': 'yk3...  \n",
       "3  [{'transactionId': 'vx4cjc27', 'orderId': 'fbz...  \n",
       "4  [{'transactionId': 'q8j3dgni', 'orderId': '56h...  "
      ]
     },
     "execution_count": 44,
     "metadata": {},
     "output_type": "execute_result"
    }
   ],
   "source": [
    "data.head()"
   ]
  },
  {
   "cell_type": "markdown",
   "metadata": {},
   "source": [
    "## Feature engineering"
   ]
  },
  {
   "cell_type": "markdown",
   "metadata": {},
   "source": [
    "In order to avoid a huge notebook, all the methods related to feature enginnering have been placed in the `feature_utils` module."
   ]
  },
  {
   "cell_type": "code",
   "execution_count": 45,
   "metadata": {
    "tags": []
   },
   "outputs": [
    {
     "name": "stderr",
     "output_type": "stream",
     "text": [
      "/home/andodet/code/study/code-test-data-science/venv/lib/python3.8/site-packages/numpy/core/fromnumeric.py:3372: RuntimeWarning: Mean of empty slice.\n",
      "  return _methods._mean(a, axis=axis, dtype=dtype,\n"
     ]
    }
   ],
   "source": [
    "df = pd.DataFrame()\n",
    "\n",
    "y = data['fraudulent']\n",
    "\n",
    "# Transactions features\n",
    "df['n_transactions'] = data['transactions'].apply(lambda x: len(x))\n",
    "df['total_amt_tx'] = data['transactions'].apply(total_amt)\n",
    "df['avg_amt_tx'] = data['transactions'].apply(avg_amt)\n",
    "df['n_tx_failed'] = data['transactions'].apply(n_tx_failed)\n",
    "\n",
    "# Payment methods features\n",
    "df['n_payment_methods'] = data['paymentMethods'].apply(lambda x: len(x))\n",
    "df['pm_registration_fails'] = data['paymentMethods'].apply(pm_registration_fails)\n",
    "df['n_payment_issuer'] = data['paymentMethods'].apply(lambda x: n_distinct(x, 'paymentMethodIssuer'))\n",
    "df['n_payment_provider'] = data['paymentMethods'].apply(lambda x: n_distinct(x, 'paymentMethodProvider'))\n",
    "df['n_payment_type'] = data['paymentMethods'].apply(lambda x: n_distinct(x, 'paymentMethodType'))\n",
    "\n",
    "# Orders features\n",
    "df['n_orders'] = data['orders'].apply(lambda x: len(x))\n",
    "df['total_amt_ord'] = data['orders'].apply(tot_amt_ordered)\n",
    "df['avg_amt_ord'] = data['orders'].apply(avg_ordered)\n",
    "df['order_states'] = data['orders'].apply(order_states)\n",
    "df['n_addresses'] = data['orders'].apply(lambda x: len(get_n_addresses(x)))\n",
    "df['state'] = data['orders'].apply(get_addr_states)\n",
    "df['zipcodes'] = data['orders'].apply(get_zipcode)\n",
    "df['n_zipcodes'] = data['orders'].apply(lambda x: len(get_zipcode(x)))\n",
    "\n",
    "# Customer features\n",
    "df['email_domain'] = data['customer'].apply(get_email_domain)\n",
    "df['billing_shipping_mismatch'] = data.apply(lambda x: address_mismatch(x), axis=1)\n",
    "df['username_vowels_ratio'] = data['customer'].apply(vowels_ratio)\n",
    "\n",
    "df = df.fillna(0)"
   ]
  },
  {
   "cell_type": "markdown",
   "metadata": {},
   "source": [
    "## Light data exploration"
   ]
  },
  {
   "cell_type": "code",
   "execution_count": 46,
   "metadata": {},
   "outputs": [
    {
     "data": {
      "text/plain": [
       "(168, 20)"
      ]
     },
     "execution_count": 46,
     "metadata": {},
     "output_type": "execute_result"
    }
   ],
   "source": [
    "df.shape"
   ]
  },
  {
   "cell_type": "markdown",
   "metadata": {},
   "source": [
    "### Order distribution"
   ]
  },
  {
   "cell_type": "markdown",
   "metadata": {},
   "source": [
    "From the distributions plotted below, a few insights can be drawn:\n",
    "\n",
    "* Most users have between 1 and 2 **payment methods** associated to their account.\n",
    "* Same as above applies to the number of **addresses** associated to each account.\n",
    "* Most users tend to **spend** between \\\\$0 and \\\\$50 during their lifetime.\n",
    "* It is fairly rare to encounter **failed transaction**.\n",
    "* Most users get goods delivered to the same **billing address**. A mismatch might signal someone is testing cards and looking to get the goods delivered to a different location."
   ]
  },
  {
   "cell_type": "code",
   "execution_count": 47,
   "metadata": {},
   "outputs": [
    {
     "data": {
      "text/plain": [
       "<matplotlib.axes._subplots.AxesSubplot at 0x7f306dc12280>"
      ]
     },
     "execution_count": 47,
     "metadata": {},
     "output_type": "execute_result"
    },
    {
     "data": {
      "image/png": "[encoded data removed]",
      "text/plain": [
       "<Figure size 1440x504 with 8 Axes>"
      ]
     },
     "metadata": {
      "needs_background": "light"
     },
     "output_type": "display_data"
    }
   ],
   "source": [
    "f, axes = plt.subplots(2, 4, figsize=(20,7), sharex=False)\n",
    "axes[1,3].axis('off')  # discard unused plot space\n",
    "\n",
    "sns.distplot(df['n_payment_methods'], ax=axes[0,0])\n",
    "sns.distplot(df['n_orders'], ax=axes[0,1])\n",
    "sns.distplot(df['n_addresses'], ax=axes[0,2])\n",
    "sns.distplot(df['total_amt_ord'], ax=axes[0,3])\n",
    "sns.distplot(df['avg_amt_ord'], ax=axes[1,0])\n",
    "sns.distplot(df['n_transactions'], ax=axes[1,1])\n",
    "sns.distplot(df['n_tx_failed'], ax=axes[1,2])"
   ]
  },
  {
   "cell_type": "markdown",
   "metadata": {},
   "source": [
    "### Common email domains"
   ]
  },
  {
   "cell_type": "markdown",
   "metadata": {},
   "source": [
    "**Email domains** distribution is in line with the most common email providers (gmail, yahoo, hotmail)."
   ]
  },
  {
   "cell_type": "code",
   "execution_count": 48,
   "metadata": {},
   "outputs": [
    {
     "data": {
      "text/plain": [
       "Text(0.5, 1.0, 'Most common email domains')"
      ]
     },
     "execution_count": 48,
     "metadata": {},
     "output_type": "execute_result"
    },
    {
     "data": {
      "image/png": "[encoded data removed]",
      "text/plain": [
       "<Figure size 432x288 with 1 Axes>"
      ]
     },
     "metadata": {
      "needs_background": "light"
     },
     "output_type": "display_data"
    }
   ],
   "source": [
    "# Common email domains\n",
    "df['email_domain'].value_counts().nlargest(10).plot.bar()\n",
    "plt.title('Most common email domains')"
   ]
  },
  {
   "cell_type": "markdown",
   "metadata": {},
   "source": [
    "### Common payment methods"
   ]
  },
  {
   "cell_type": "markdown",
   "metadata": {},
   "source": [
    "Cards are the most common payment method."
   ]
  },
  {
   "cell_type": "code",
   "execution_count": 49,
   "metadata": {},
   "outputs": [
    {
     "data": {
      "text/plain": [
       "Text(0.5, 1.0, 'Most common payment methods')"
      ]
     },
     "execution_count": 49,
     "metadata": {},
     "output_type": "execute_result"
    },
    {
     "data": {
      "image/png": "[encoded data removed]",
      "text/plain": [
       "<Figure size 432x288 with 1 Axes>"
      ]
     },
     "metadata": {
      "needs_background": "light"
     },
     "output_type": "display_data"
    }
   ],
   "source": [
    "pm_counts = data['paymentMethods'].apply(get_payment_methods)\n",
    "pm_counts = pd.DataFrame.from_dict(pm_counts)\n",
    "pm_counts = pd.json_normalize(pm_counts['paymentMethods'])\n",
    "\n",
    "# Get data to long format and plot it\n",
    "pm_counts = pd.melt(pm_counts)\n",
    "pm_grouped = pm_counts.groupby(['variable']).sum()\n",
    "pm_grouped.sort_values(by='value', ascending=False).plot.bar()\n",
    "plt.title(\"Most common payment methods\")"
   ]
  },
  {
   "cell_type": "markdown",
   "metadata": {},
   "source": [
    "In most cases (75%), users used their billing address as a delivery address at least once."
   ]
  },
  {
   "cell_type": "code",
   "execution_count": 50,
   "metadata": {},
   "outputs": [
    {
     "data": {
      "text/plain": [
       "False    127\n",
       "True      41\n",
       "Name: billing_shipping_mismatch, dtype: int64"
      ]
     },
     "execution_count": 50,
     "metadata": {},
     "output_type": "execute_result"
    }
   ],
   "source": [
    "df['billing_shipping_mismatch'].value_counts()"
   ]
  },
  {
   "cell_type": "markdown",
   "metadata": {},
   "source": [
    "## Model evaluation"
   ]
  },
  {
   "cell_type": "markdown",
   "metadata": {},
   "source": [
    "Given the small size of the dataset, 3 models will be explored:\n",
    "\n",
    "* Simple logistic regression\n",
    "* Random forest\n",
    "* Knn classifier\n",
    "\n",
    "Hyperparaemter tuning will be skipped as it would be overkill for a dataset of this size."
   ]
  },
  {
   "cell_type": "code",
   "execution_count": 51,
   "metadata": {},
   "outputs": [],
   "source": [
    "# Helper functions\n",
    "\n",
    "def eval_model(model, cv, x_train, y_train, x_test, y_test):\n",
    "    '''Evaluates a model and prints performance metrics'''\n",
    "    model.fit(x_train, y_train)\n",
    "    print(f\"cv score: {cross_val_score(model, x_train, y_train, cv=cv).mean()}\")\n",
    "    print(f\"test score: {model.score(x_test, y_test)}\")\n",
    "    print(\"train classification report\")\n",
    "    print(classification_report(y_train, model.predict(x_train)))\n",
    "    print(\"test classification report\")\n",
    "    print(y_test.shape)\n",
    "    print(classification_report(y_test, model.predict(x_test)))\n",
    "    \n",
    "    # return fitted model\n",
    "    return model\n",
    "\n",
    "def plt_roc_auc(classifier, x_test, y_test):\n",
    "    '''Plot roc-auc curve'''\n",
    "    preds_proba = classifier.predict_proba(x_test)[:,1]\n",
    "    fpr, tpr, _ = roc_curve(y_test, preds_proba)\n",
    "    auc = roc_auc_score(y_test, preds_proba)\n",
    "    \n",
    "    plt.plot(fpr, tpr)\n",
    "    plt.title(\"AUC\")\n",
    "    plt.show()"
   ]
  },
  {
   "cell_type": "code",
   "execution_count": 52,
   "metadata": {},
   "outputs": [
    {
     "name": "stdout",
     "output_type": "stream",
     "text": [
      "(112, 20)\n",
      "(56, 20)\n"
     ]
    }
   ],
   "source": [
    "# Split train-test datasets\n",
    "x_train, x_test, y_train, y_test = train_test_split(\n",
    "    df, y, test_size=0.33, stratify=y, random_state=42\n",
    ")\n",
    "print(x_train.shape)\n",
    "print(x_test.shape)"
   ]
  },
  {
   "cell_type": "code",
   "execution_count": 53,
   "metadata": {},
   "outputs": [],
   "source": [
    "numeric_cols = df.select_dtypes(include=['int64', 'float64']).columns\n",
    "\n",
    "column_trans = ColumnTransformer(\n",
    "    [('state', DictVectorizer(sparse=False), ('state')),\n",
    "     ('zipcode', DictVectorizer(sparse=False), ('zipcodes')),\n",
    "     ('email_domain', OneHotEncoder(handle_unknown='ignore'), ['email_domain']),\n",
    "     ('address_mismatch', Binarizer(), ['billing_shipping_mismatch']),\n",
    "     ('order_states', DictVectorizer(sparse=False), ('order_states')),\n",
    "     ('num', RobustScaler(), numeric_cols)],\n",
    "    remainder='passthrough'\n",
    ")\n",
    "\n",
    "x_train = column_trans.fit_transform(x_train)\n",
    "x_test = column_trans.transform(x_test)"
   ]
  },
  {
   "cell_type": "code",
   "execution_count": 54,
   "metadata": {},
   "outputs": [
    {
     "data": {
      "text/plain": [
       "(112, 326)"
      ]
     },
     "execution_count": 54,
     "metadata": {},
     "output_type": "execute_result"
    }
   ],
   "source": [
    "x_train.shape"
   ]
  },
  {
   "cell_type": "markdown",
   "metadata": {},
   "source": [
    "## No resampling"
   ]
  },
  {
   "cell_type": "markdown",
   "metadata": {},
   "source": [
    "### Logistic regression"
   ]
  },
  {
   "cell_type": "code",
   "execution_count": 55,
   "metadata": {},
   "outputs": [
    {
     "name": "stdout",
     "output_type": "stream",
     "text": [
      "cv score: 0.740909090909091\n",
      "test score: 0.7142857142857143\n",
      "train classification report\n",
      "              precision    recall  f1-score   support\n",
      "\n",
      "       False       0.95      1.00      0.97        71\n",
      "        True       1.00      0.90      0.95        41\n",
      "\n",
      "    accuracy                           0.96       112\n",
      "   macro avg       0.97      0.95      0.96       112\n",
      "weighted avg       0.97      0.96      0.96       112\n",
      "\n",
      "test classification report\n",
      "(56,)\n",
      "              precision    recall  f1-score   support\n",
      "\n",
      "       False       0.73      0.89      0.80        36\n",
      "        True       0.67      0.40      0.50        20\n",
      "\n",
      "    accuracy                           0.71        56\n",
      "   macro avg       0.70      0.64      0.65        56\n",
      "weighted avg       0.71      0.71      0.69        56\n",
      "\n"
     ]
    },
    {
     "data": {
      "image/png": "[encoded data removed]",
      "text/plain": [
       "<Figure size 432x288 with 1 Axes>"
      ]
     },
     "metadata": {
      "needs_background": "light"
     },
     "output_type": "display_data"
    }
   ],
   "source": [
    "lr = LogisticRegression(max_iter=5000)\n",
    "cv = StratifiedKFold(n_splits=10, shuffle=True)\n",
    "model = eval_model(lr, cv, x_train, y_train, x_test, y_test)\n",
    "plt_roc_auc(model, x_test, y_test)"
   ]
  },
  {
   "cell_type": "markdown",
   "metadata": {},
   "source": [
    "### Random forest"
   ]
  },
  {
   "cell_type": "markdown",
   "metadata": {},
   "source": [
    "Keeping in mind that results can be influenced on how the train/test splits are built. It seems that (at least for this run) we can identify 3 key trends to correctly classify fraud:\n",
    "\n",
    "* Junk emails (people bashing keyboards) is deemed important to catch fraud.\n",
    "* Purchase behaviour is important (avg./tot order value, avg. transaction, etc).\n",
    "* Having different payment providers is fishy.\n"
   ]
  },
  {
   "cell_type": "code",
   "execution_count": 56,
   "metadata": {},
   "outputs": [
    {
     "name": "stdout",
     "output_type": "stream",
     "text": [
      "cv score: 0.7318181818181818\n",
      "test score: 0.8214285714285714\n",
      "train classification report\n",
      "              precision    recall  f1-score   support\n",
      "\n",
      "       False       1.00      1.00      1.00        71\n",
      "        True       1.00      1.00      1.00        41\n",
      "\n",
      "    accuracy                           1.00       112\n",
      "   macro avg       1.00      1.00      1.00       112\n",
      "weighted avg       1.00      1.00      1.00       112\n",
      "\n",
      "test classification report\n",
      "(56,)\n",
      "              precision    recall  f1-score   support\n",
      "\n",
      "       False       0.78      1.00      0.88        36\n",
      "        True       1.00      0.50      0.67        20\n",
      "\n",
      "    accuracy                           0.82        56\n",
      "   macro avg       0.89      0.75      0.77        56\n",
      "weighted avg       0.86      0.82      0.80        56\n",
      "\n"
     ]
    },
    {
     "data": {
      "image/png": "[encoded data removed]",
      "text/plain": [
       "<Figure size 432x288 with 1 Axes>"
      ]
     },
     "metadata": {
      "needs_background": "light"
     },
     "output_type": "display_data"
    },
    {
     "data": {
      "text/plain": [
       "Text(0.5, 1.0, 'Feature importance')"
      ]
     },
     "execution_count": 56,
     "metadata": {},
     "output_type": "execute_result"
    },
    {
     "data": {
      "image/png": "[encoded data removed]",
      "text/plain": [
       "<Figure size 432x288 with 1 Axes>"
      ]
     },
     "metadata": {
      "needs_background": "light"
     },
     "output_type": "display_data"
    }
   ],
   "source": [
    "rf = RandomForestClassifier(random_state=42)\n",
    "cv = StratifiedKFold(n_splits=10, shuffle=True)\n",
    "fitted_rf = eval_model(rf, cv, x_train, y_train, x_test, y_test)\n",
    "plt_roc_auc(rf, x_test, y_test)\n",
    "\n",
    "# Plot feature importance\n",
    "feat_importances = pd.Series(fitted_rf.feature_importances_,\n",
    "                             index=get_ct_feature_names(column_trans))\n",
    "feat_importances.nlargest(10).sort_values(ascending=True).plot(kind='barh')\n",
    "plt.title(\"Feature importance\")"
   ]
  },
  {
   "cell_type": "markdown",
   "metadata": {},
   "source": [
    "### K Neighbours"
   ]
  },
  {
   "cell_type": "code",
   "execution_count": 57,
   "metadata": {},
   "outputs": [
    {
     "name": "stdout",
     "output_type": "stream",
     "text": [
      "cv score: 0.7265151515151516\n",
      "test score: 0.7321428571428571\n",
      "train classification report\n",
      "              precision    recall  f1-score   support\n",
      "\n",
      "       False       0.78      0.93      0.85        71\n",
      "        True       0.81      0.54      0.65        41\n",
      "\n",
      "    accuracy                           0.79       112\n",
      "   macro avg       0.80      0.73      0.75       112\n",
      "weighted avg       0.79      0.79      0.77       112\n",
      "\n",
      "test classification report\n",
      "(56,)\n",
      "              precision    recall  f1-score   support\n",
      "\n",
      "       False       0.73      0.92      0.81        36\n",
      "        True       0.73      0.40      0.52        20\n",
      "\n",
      "    accuracy                           0.73        56\n",
      "   macro avg       0.73      0.66      0.67        56\n",
      "weighted avg       0.73      0.73      0.71        56\n",
      "\n"
     ]
    },
    {
     "data": {
      "image/png": "[encoded data removed]",
      "text/plain": [
       "<Figure size 432x288 with 1 Axes>"
      ]
     },
     "metadata": {
      "needs_background": "light"
     },
     "output_type": "display_data"
    }
   ],
   "source": [
    "knn = KNeighborsClassifier()\n",
    "cv = StratifiedKFold(n_splits=10, shuffle=True)\n",
    "eval_model(knn, cv, x_train, y_train, x_test, y_test)\n",
    "plt_roc_auc(knn, x_test, y_test)"
   ]
  },
  {
   "cell_type": "markdown",
   "metadata": {},
   "source": [
    "## Using resampling"
   ]
  },
  {
   "cell_type": "markdown",
   "metadata": {},
   "source": [
    "With"
   ]
  },
  {
   "cell_type": "markdown",
   "metadata": {},
   "source": [
    "### Logistic regression"
   ]
  },
  {
   "cell_type": "code",
   "execution_count": 58,
   "metadata": {},
   "outputs": [
    {
     "name": "stdout",
     "output_type": "stream",
     "text": [
      "cv score: 0.7310606060606061\n",
      "test score: 0.6964285714285714\n",
      "train classification report\n",
      "              precision    recall  f1-score   support\n",
      "\n",
      "       False       0.97      0.99      0.98        71\n",
      "        True       0.97      0.95      0.96        41\n",
      "\n",
      "    accuracy                           0.97       112\n",
      "   macro avg       0.97      0.97      0.97       112\n",
      "weighted avg       0.97      0.97      0.97       112\n",
      "\n",
      "test classification report\n",
      "(56,)\n",
      "              precision    recall  f1-score   support\n",
      "\n",
      "       False       0.73      0.83      0.78        36\n",
      "        True       0.60      0.45      0.51        20\n",
      "\n",
      "    accuracy                           0.70        56\n",
      "   macro avg       0.67      0.64      0.65        56\n",
      "weighted avg       0.68      0.70      0.68        56\n",
      "\n"
     ]
    },
    {
     "data": {
      "image/png": "[encoded data removed]",
      "text/plain": [
       "<Figure size 432x288 with 1 Axes>"
      ]
     },
     "metadata": {
      "needs_background": "light"
     },
     "output_type": "display_data"
    }
   ],
   "source": [
    "skfcv = StratifiedKFold(n_splits=10, shuffle=True)\n",
    "lr = LogisticRegression(max_iter=5000)\n",
    "\n",
    "pipe = make_pipeline_imb(SMOTE(sampling_strategy='all', random_state=42),\n",
    "                         LogisticRegression(max_iter=5000))\n",
    "pipe.fit(x_train, y_train)\n",
    "\n",
    "eval_model(pipe, skfcv, x_train, y_train, x_test, y_test)\n",
    "plt_roc_auc(pipe, x_test, y_test)"
   ]
  },
  {
   "cell_type": "markdown",
   "metadata": {},
   "source": [
    "### Random forest"
   ]
  },
  {
   "cell_type": "code",
   "execution_count": 59,
   "metadata": {
    "tags": []
   },
   "outputs": [
    {
     "name": "stdout",
     "output_type": "stream",
     "text": [
      "cv score: 0.6977272727272728\n",
      "test score: 0.8571428571428571\n",
      "train classification report\n",
      "              precision    recall  f1-score   support\n",
      "\n",
      "       False       1.00      1.00      1.00        71\n",
      "        True       1.00      1.00      1.00        41\n",
      "\n",
      "    accuracy                           1.00       112\n",
      "   macro avg       1.00      1.00      1.00       112\n",
      "weighted avg       1.00      1.00      1.00       112\n",
      "\n",
      "test classification report\n",
      "(56,)\n",
      "              precision    recall  f1-score   support\n",
      "\n",
      "       False       0.82      1.00      0.90        36\n",
      "        True       1.00      0.60      0.75        20\n",
      "\n",
      "    accuracy                           0.86        56\n",
      "   macro avg       0.91      0.80      0.82        56\n",
      "weighted avg       0.88      0.86      0.85        56\n",
      "\n"
     ]
    },
    {
     "data": {
      "image/png": "[encoded data removed]",
      "text/plain": [
       "<Figure size 432x288 with 1 Axes>"
      ]
     },
     "metadata": {
      "needs_background": "light"
     },
     "output_type": "display_data"
    }
   ],
   "source": [
    "skfcv = StratifiedKFold(n_splits=10, shuffle=True)\n",
    "rf = RandomForestClassifier(random_state=42)\n",
    "\n",
    "pipe = make_pipeline_imb(SMOTE(sampling_strategy='all', random_state=42),\n",
    "                         RandomForestClassifier(random_state=42))\n",
    "pipe.fit(x_train, y_train)\n",
    "eval_model(pipe, skfcv, x_train, y_train, x_test, y_test)\n",
    "plt_roc_auc(pipe, x_test, y_test)"
   ]
  },
  {
   "cell_type": "markdown",
   "metadata": {},
   "source": [
    "### K Neighbors"
   ]
  },
  {
   "cell_type": "code",
   "execution_count": 60,
   "metadata": {},
   "outputs": [
    {
     "name": "stdout",
     "output_type": "stream",
     "text": [
      "cv score: 0.5257575757575756\n",
      "test score: 0.6607142857142857\n",
      "train classification report\n",
      "              precision    recall  f1-score   support\n",
      "\n",
      "       False       0.85      0.66      0.75        71\n",
      "        True       0.58      0.80      0.67        41\n",
      "\n",
      "    accuracy                           0.71       112\n",
      "   macro avg       0.72      0.73      0.71       112\n",
      "weighted avg       0.75      0.71      0.72       112\n",
      "\n",
      "test classification report\n",
      "(56,)\n",
      "              precision    recall  f1-score   support\n",
      "\n",
      "       False       0.77      0.67      0.72        36\n",
      "        True       0.52      0.65      0.58        20\n",
      "\n",
      "    accuracy                           0.66        56\n",
      "   macro avg       0.65      0.66      0.65        56\n",
      "weighted avg       0.68      0.66      0.67        56\n",
      "\n"
     ]
    },
    {
     "data": {
      "image/png": "[encoded data removed]",
      "text/plain": [
       "<Figure size 432x288 with 1 Axes>"
      ]
     },
     "metadata": {
      "needs_background": "light"
     },
     "output_type": "display_data"
    }
   ],
   "source": [
    "skfcv = StratifiedKFold(n_splits=10, shuffle=True)\n",
    "knn = KNeighborsClassifier()\n",
    "\n",
    "pipe = make_pipeline_imb(SMOTE(sampling_strategy='all', random_state=42),\n",
    "                         KNeighborsClassifier())\n",
    "pipe.fit(x_train, y_train)\n",
    "\n",
    "eval_model(pipe, skfcv, x_train, y_train, x_test, y_test)\n",
    "plt_roc_auc(pipe, x_test, y_test)"
   ]
  },
  {
   "cell_type": "markdown",
   "metadata": {},
   "source": [
    "## Conclusions"
   ]
  },
  {
   "cell_type": "markdown",
   "metadata": {},
   "source": [
    "Surprisingly, over-sampling data didn't bring any additional benefit (if anyhting, it made models' performances slightly worse). It has to be noted that dealing with such a small dataset, results are highly influenced by how the data is splitted. For this reason, this notebook should only serve a demonstrative purpose, given that no conclusions can be drawn."
   ]
  }
 ],
 "metadata": {
  "kernelspec": {
   "display_name": "ravelin",
   "language": "python",
   "name": "ravelin"
  },
  "language_info": {
   "codemirror_mode": {
    "name": "ipython",
    "version": 3
   },
   "file_extension": ".py",
   "mimetype": "text/x-python",
   "name": "python",
   "nbconvert_exporter": "python",
   "pygments_lexer": "ipython3",
   "version": "3.8.3"
  },
  "toc-showtags": false
 },
 "nbformat": 4,
 "nbformat_minor": 4
}
