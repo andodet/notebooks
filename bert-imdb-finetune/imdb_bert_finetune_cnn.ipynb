{
 "cells": [
  {
   "cell_type": "code",
   "execution_count": 1,
   "metadata": {
    "colab": {
     "base_uri": "https://localhost:8080/"
    },
    "id": "nqdQG6aYbQww",
    "outputId": "9a81ce3d-d7d6-4910-c12b-2f1108a05535"
   },
   "outputs": [
    {
     "name": "stdout",
     "output_type": "stream",
     "text": [
      "Requirement already satisfied: transformers in /opt/conda/lib/python3.10/site-packages (4.30.2)\n",
      "Requirement already satisfied: portalocker in /opt/conda/lib/python3.10/site-packages (2.7.0)\n",
      "Requirement already satisfied: accelerate in /opt/conda/lib/python3.10/site-packages (0.20.3)\n",
      "Requirement already satisfied: nlp in /opt/conda/lib/python3.10/site-packages (0.4.0)\n",
      "Requirement already satisfied: scikit-learn in /opt/conda/lib/python3.10/site-packages (1.2.2)\n",
      "Requirement already satisfied: matplotlib in /opt/conda/lib/python3.10/site-packages (3.7.1)\n",
      "Requirement already satisfied: regex!=2019.12.17 in /opt/conda/lib/python3.10/site-packages (from transformers) (2023.6.3)\n",
      "Requirement already satisfied: requests in /opt/conda/lib/python3.10/site-packages (from transformers) (2.29.0)\n",
      "Requirement already satisfied: huggingface-hub<1.0,>=0.14.1 in /opt/conda/lib/python3.10/site-packages (from transformers) (0.15.1)\n",
      "Requirement already satisfied: numpy>=1.17 in /opt/conda/lib/python3.10/site-packages (from transformers) (1.24.3)\n",
      "Requirement already satisfied: pyyaml>=5.1 in /opt/conda/lib/python3.10/site-packages (from transformers) (6.0)\n",
      "Requirement already satisfied: tqdm>=4.27 in /opt/conda/lib/python3.10/site-packages (from transformers) (4.65.0)\n",
      "Requirement already satisfied: filelock in /opt/conda/lib/python3.10/site-packages (from transformers) (3.9.0)\n",
      "Requirement already satisfied: tokenizers!=0.11.3,<0.14,>=0.11.1 in /opt/conda/lib/python3.10/site-packages (from transformers) (0.13.3)\n",
      "Requirement already satisfied: packaging>=20.0 in /opt/conda/lib/python3.10/site-packages (from transformers) (23.0)\n",
      "Requirement already satisfied: safetensors>=0.3.1 in /opt/conda/lib/python3.10/site-packages (from transformers) (0.3.1)\n",
      "Requirement already satisfied: torch>=1.6.0 in /opt/conda/lib/python3.10/site-packages (from accelerate) (2.0.1)\n",
      "Requirement already satisfied: psutil in /opt/conda/lib/python3.10/site-packages (from accelerate) (5.9.0)\n",
      "Requirement already satisfied: dill in /opt/conda/lib/python3.10/site-packages (from nlp) (0.3.6)\n",
      "Requirement already satisfied: pyarrow>=0.16.0 in /opt/conda/lib/python3.10/site-packages (from nlp) (12.0.1)\n",
      "Requirement already satisfied: pandas in /opt/conda/lib/python3.10/site-packages (from nlp) (2.0.2)\n",
      "Requirement already satisfied: xxhash in /opt/conda/lib/python3.10/site-packages (from nlp) (3.2.0)\n",
      "Requirement already satisfied: scipy>=1.3.2 in /opt/conda/lib/python3.10/site-packages (from scikit-learn) (1.10.1)\n",
      "Requirement already satisfied: threadpoolctl>=2.0.0 in /opt/conda/lib/python3.10/site-packages (from scikit-learn) (3.1.0)\n",
      "Requirement already satisfied: joblib>=1.1.1 in /opt/conda/lib/python3.10/site-packages (from scikit-learn) (1.2.0)\n",
      "Requirement already satisfied: fonttools>=4.22.0 in /opt/conda/lib/python3.10/site-packages (from matplotlib) (4.40.0)\n",
      "Requirement already satisfied: contourpy>=1.0.1 in /opt/conda/lib/python3.10/site-packages (from matplotlib) (1.1.0)\n",
      "Requirement already satisfied: cycler>=0.10 in /opt/conda/lib/python3.10/site-packages (from matplotlib) (0.11.0)\n",
      "Requirement already satisfied: python-dateutil>=2.7 in /opt/conda/lib/python3.10/site-packages (from matplotlib) (2.8.2)\n",
      "Requirement already satisfied: kiwisolver>=1.0.1 in /opt/conda/lib/python3.10/site-packages (from matplotlib) (1.4.4)\n",
      "Requirement already satisfied: pyparsing>=2.3.1 in /opt/conda/lib/python3.10/site-packages (from matplotlib) (3.1.0)\n",
      "Requirement already satisfied: pillow>=6.2.0 in /opt/conda/lib/python3.10/site-packages (from matplotlib) (9.4.0)\n",
      "Requirement already satisfied: typing-extensions>=3.7.4.3 in /opt/conda/lib/python3.10/site-packages (from huggingface-hub<1.0,>=0.14.1->transformers) (4.5.0)\n",
      "Requirement already satisfied: fsspec in /opt/conda/lib/python3.10/site-packages (from huggingface-hub<1.0,>=0.14.1->transformers) (2023.6.0)\n",
      "Requirement already satisfied: six>=1.5 in /opt/conda/lib/python3.10/site-packages (from python-dateutil>=2.7->matplotlib) (1.16.0)\n",
      "Requirement already satisfied: idna<4,>=2.5 in /opt/conda/lib/python3.10/site-packages (from requests->transformers) (3.4)\n",
      "Requirement already satisfied: certifi>=2017.4.17 in /opt/conda/lib/python3.10/site-packages (from requests->transformers) (2023.5.7)\n",
      "Requirement already satisfied: urllib3<1.27,>=1.21.1 in /opt/conda/lib/python3.10/site-packages (from requests->transformers) (1.26.15)\n",
      "Requirement already satisfied: charset-normalizer<4,>=2 in /opt/conda/lib/python3.10/site-packages (from requests->transformers) (2.0.4)\n",
      "Requirement already satisfied: sympy in /opt/conda/lib/python3.10/site-packages (from torch>=1.6.0->accelerate) (1.12)\n",
      "Requirement already satisfied: networkx in /opt/conda/lib/python3.10/site-packages (from torch>=1.6.0->accelerate) (3.1)\n",
      "Requirement already satisfied: jinja2 in /opt/conda/lib/python3.10/site-packages (from torch>=1.6.0->accelerate) (3.1.2)\n",
      "Requirement already satisfied: pytz>=2020.1 in /opt/conda/lib/python3.10/site-packages (from pandas->nlp) (2022.7)\n",
      "Requirement already satisfied: tzdata>=2022.1 in /opt/conda/lib/python3.10/site-packages (from pandas->nlp) (2023.3)\n",
      "Requirement already satisfied: MarkupSafe>=2.0 in /opt/conda/lib/python3.10/site-packages (from jinja2->torch>=1.6.0->accelerate) (2.1.1)\n",
      "Requirement already satisfied: mpmath>=0.19 in /opt/conda/lib/python3.10/site-packages (from sympy->torch>=1.6.0->accelerate) (1.3.0)\n",
      "\u001b[33mWARNING: Running pip as the 'root' user can result in broken permissions and conflicting behaviour with the system package manager. It is recommended to use a virtual environment instead: https://pip.pypa.io/warnings/venv\u001b[0m\u001b[33m\n",
      "\u001b[0mRequirement already satisfied: torch in /opt/conda/lib/python3.10/site-packages (2.0.1)\n",
      "Requirement already satisfied: torchtext in /opt/conda/lib/python3.10/site-packages (0.15.2)\n",
      "Requirement already satisfied: filelock in /opt/conda/lib/python3.10/site-packages (from torch) (3.9.0)\n",
      "Requirement already satisfied: typing-extensions in /opt/conda/lib/python3.10/site-packages (from torch) (4.5.0)\n",
      "Requirement already satisfied: sympy in /opt/conda/lib/python3.10/site-packages (from torch) (1.12)\n",
      "Requirement already satisfied: networkx in /opt/conda/lib/python3.10/site-packages (from torch) (3.1)\n",
      "Requirement already satisfied: jinja2 in /opt/conda/lib/python3.10/site-packages (from torch) (3.1.2)\n",
      "Requirement already satisfied: tqdm in /opt/conda/lib/python3.10/site-packages (from torchtext) (4.65.0)\n",
      "Requirement already satisfied: requests in /opt/conda/lib/python3.10/site-packages (from torchtext) (2.29.0)\n",
      "Requirement already satisfied: numpy in /opt/conda/lib/python3.10/site-packages (from torchtext) (1.24.3)\n",
      "Requirement already satisfied: torchdata in /opt/conda/lib/python3.10/site-packages (from torchtext) (0.6.1)\n",
      "Requirement already satisfied: MarkupSafe>=2.0 in /opt/conda/lib/python3.10/site-packages (from jinja2->torch) (2.1.1)\n",
      "Requirement already satisfied: charset-normalizer<4,>=2 in /opt/conda/lib/python3.10/site-packages (from requests->torchtext) (2.0.4)\n",
      "Requirement already satisfied: idna<4,>=2.5 in /opt/conda/lib/python3.10/site-packages (from requests->torchtext) (3.4)\n",
      "Requirement already satisfied: urllib3<1.27,>=1.21.1 in /opt/conda/lib/python3.10/site-packages (from requests->torchtext) (1.26.15)\n",
      "Requirement already satisfied: certifi>=2017.4.17 in /opt/conda/lib/python3.10/site-packages (from requests->torchtext) (2023.5.7)\n",
      "Requirement already satisfied: mpmath>=0.19 in /opt/conda/lib/python3.10/site-packages (from sympy->torch) (1.3.0)\n",
      "\u001b[33mWARNING: Running pip as the 'root' user can result in broken permissions and conflicting behaviour with the system package manager. It is recommended to use a virtual environment instead: https://pip.pypa.io/warnings/venv\u001b[0m\u001b[33m\n",
      "\u001b[0m"
     ]
    }
   ],
   "source": [
    "!pip install transformers portalocker accelerate nlp scikit-learn matplotlib\n",
    "!pip install --upgrade torch torchtext"
   ]
  },
  {
   "cell_type": "code",
   "execution_count": 2,
   "metadata": {
    "id": "ctBUDV2gbjM-"
   },
   "outputs": [],
   "source": [
    "from torch.utils.data import DataLoader, random_split, Dataset\n",
    "from nlp import load_dataset\n",
    "from sklearn.model_selection import train_test_split\n",
    "import numpy as np\n",
    "import torch\n",
    "\n",
    "data = load_dataset('imdb')"
   ]
  },
  {
   "cell_type": "code",
   "execution_count": 3,
   "metadata": {
    "id": "x1uGYn0z46l4"
   },
   "outputs": [],
   "source": [
    "train_dset = data['train']\n",
    "test_dset = data['test']"
   ]
  },
  {
   "cell_type": "code",
   "execution_count": 4,
   "metadata": {
    "id": "y38nJlQ47hp2"
   },
   "outputs": [],
   "source": [
    "idxs = np.arange(len(train_dset))\n",
    "train_idxs, val_idxs = train_test_split(idxs, test_size=0.2, random_state=42)\n",
    "\n",
    "train_dset = train_dset.select(train_idxs)\n",
    "val_dset = train_dset.select(val_idxs)"
   ]
  },
  {
   "cell_type": "code",
   "execution_count": 5,
   "metadata": {
    "id": "jxS_V2afTioo"
   },
   "outputs": [],
   "source": [
    "MODEL_NAME = \"distilbert-base-uncased\"\n",
    "BATCH_SIZE = 32"
   ]
  },
  {
   "cell_type": "code",
   "execution_count": 6,
   "metadata": {
    "id": "BrqtFbBDyauN"
   },
   "outputs": [],
   "source": [
    "from transformers import (\n",
    "    DistilBertTokenizerFast,\n",
    "    DistilBertModel,\n",
    "    DistilBertForSequenceClassification,\n",
    "    Trainer,\n",
    "    TrainingArguments\n",
    ")\n",
    "\n",
    "tokenizer = DistilBertTokenizerFast.from_pretrained(MODEL_NAME)"
   ]
  },
  {
   "cell_type": "code",
   "execution_count": 7,
   "metadata": {
    "colab": {
     "base_uri": "https://localhost:8080/"
    },
    "id": "ImStbiphAfhL",
    "outputId": "90d39026-5b14-4273-e70c-0e06f0f7256d"
   },
   "outputs": [
    {
     "data": {
      "text/plain": [
       "Dataset(features: {'text': Value(dtype='string', id=None), 'label': ClassLabel(num_classes=2, names=['neg', 'pos'], names_file=None, id=None)}, num_rows: 20000)"
      ]
     },
     "execution_count": 7,
     "metadata": {},
     "output_type": "execute_result"
    }
   ],
   "source": [
    "train_dset"
   ]
  },
  {
   "cell_type": "code",
   "execution_count": 8,
   "metadata": {
    "colab": {
     "base_uri": "https://localhost:8080/"
    },
    "id": "TZ7ldQUrBfqn",
    "outputId": "bf1cbc50-2e70-44e9-88fe-00550759031d"
   },
   "outputs": [
    {
     "name": "stdout",
     "output_type": "stream",
     "text": [
      "cuda\n"
     ]
    }
   ],
   "source": [
    "device = 'cuda' if torch.cuda.is_available() else \"cpu\"\n",
    "print(device)"
   ]
  },
  {
   "cell_type": "code",
   "execution_count": 9,
   "metadata": {
    "colab": {
     "base_uri": "https://localhost:8080/",
     "height": 730
    },
    "id": "qiaAJ9hTQshp",
    "outputId": "1f16c927-360e-4107-d7b8-1b183f360cc2"
   },
   "outputs": [
    {
     "data": {
      "text/plain": [
       "(array([8.310e+02, 2.025e+03, 5.718e+03, 3.418e+03, 2.110e+03, 1.418e+03,\n",
       "        1.070e+03, 7.590e+02, 5.840e+02, 4.630e+02, 3.440e+02, 2.760e+02,\n",
       "        2.030e+02, 1.530e+02, 1.380e+02, 1.110e+02, 1.010e+02, 6.500e+01,\n",
       "        4.900e+01, 9.500e+01, 4.800e+01, 6.000e+00, 0.000e+00, 2.000e+00,\n",
       "        1.000e+00, 1.000e+00, 2.000e+00, 2.000e+00, 1.000e+00, 1.000e+00,\n",
       "        1.000e+00, 0.000e+00, 1.000e+00, 0.000e+00, 1.000e+00, 0.000e+00,\n",
       "        0.000e+00, 1.000e+00, 0.000e+00, 0.000e+00, 0.000e+00, 0.000e+00,\n",
       "        0.000e+00, 0.000e+00, 0.000e+00, 0.000e+00, 0.000e+00, 0.000e+00,\n",
       "        0.000e+00, 1.000e+00]),\n",
       " array([  10. ,   59.2,  108.4,  157.6,  206.8,  256. ,  305.2,  354.4,\n",
       "         403.6,  452.8,  502. ,  551.2,  600.4,  649.6,  698.8,  748. ,\n",
       "         797.2,  846.4,  895.6,  944.8,  994. , 1043.2, 1092.4, 1141.6,\n",
       "        1190.8, 1240. , 1289.2, 1338.4, 1387.6, 1436.8, 1486. , 1535.2,\n",
       "        1584.4, 1633.6, 1682.8, 1732. , 1781.2, 1830.4, 1879.6, 1928.8,\n",
       "        1978. , 2027.2, 2076.4, 2125.6, 2174.8, 2224. , 2273.2, 2322.4,\n",
       "        2371.6, 2420.8, 2470. ]),\n",
       " <BarContainer object of 50 artists>)"
      ]
     },
     "execution_count": 9,
     "metadata": {},
     "output_type": "execute_result"
    },
    {
     "data": {
      "image/png": "[encoded data removed]",
      "text/plain": [
       "<Figure size 640x480 with 1 Axes>"
      ]
     },
     "metadata": {},
     "output_type": "display_data"
    }
   ],
   "source": [
    "# Check sentence length distribution to understand if it makes sese to trim themt\n",
    "lengths = []\n",
    "for review in train_dset['text']:\n",
    "    lengths.append(len(review.split(' ')))\n",
    "\n",
    "import matplotlib.pyplot as plt\n",
    "plt.hist(lengths, rwidth = 0.9, bins=50)"
   ]
  },
  {
   "cell_type": "code",
   "execution_count": 10,
   "metadata": {
    "id": "BQkrJMoMCLem"
   },
   "outputs": [],
   "source": [
    "train_encodings = tokenizer(train_dset['text'], padding=True, truncation=True, max_length=512, return_tensors='pt').to(device)\n",
    "val_encodings = tokenizer(val_dset['text'], padding=True, truncation=True, max_length=512, return_tensors='pt').to(device)\n",
    "test_encodings = tokenizer(test_dset['text'], padding=True, truncation=True, max_length=512, return_tensors='pt').to(device)\n",
    "\n",
    "y_train = train_dset['label']\n",
    "y_val = val_dset['label']\n",
    "y_test = test_dset['label']"
   ]
  },
  {
   "cell_type": "code",
   "execution_count": 11,
   "metadata": {
    "id": "sb8In7lHDf5w"
   },
   "outputs": [],
   "source": [
    "class IMDBDataset(Dataset):\n",
    "    def __init__(self, encodings, labels):\n",
    "        self.encodings = encodings\n",
    "        self.labels = labels\n",
    "\n",
    "    def __getitem__(self, idx):\n",
    "        item = {key: val[idx].to(device) for key, val in self.encodings.items()}\n",
    "        # import pdb; pdb.set_trace()\n",
    "        item['labels'] = torch.tensor(self.labels[idx]).to(device)\n",
    "        return item\n",
    "\n",
    "    def __len__(self):\n",
    "        return len(self.labels)"
   ]
  },
  {
   "cell_type": "code",
   "execution_count": 12,
   "metadata": {
    "id": "aJdoT3QCy9nc"
   },
   "outputs": [],
   "source": [
    "# def collate_fn(batch):\n",
    "#     sentences = [item['text'] for item in batch]\n",
    "#     tokenized = tokenizer(sentences, padding=True, truncation=True, return_tensors='pt')\n",
    "\n",
    "#     input_ids = tokenized['input_ids']\n",
    "#     attention_mask = tokenized['attention_mask']\n",
    "#     labels = torch.tensor([item['label'] for item in batch], dtype=torch.float16k).to(device)\n",
    "\n",
    "#     return {\n",
    "#         'input_ids': input_ids.to(device),\n",
    "#         'attention_mask': attention_mask.to(device),\n",
    "#         'labels': labels.to(device)\n",
    "#     }"
   ]
  },
  {
   "cell_type": "code",
   "execution_count": 13,
   "metadata": {
    "id": "23lnSbdf-KsM"
   },
   "outputs": [],
   "source": [
    "train_ds = IMDBDataset(train_encodings, y_train)\n",
    "val_ds = IMDBDataset(val_encodings, y_val)\n",
    "test_ds = IMDBDataset(test_encodings, y_test)"
   ]
  },
  {
   "cell_type": "code",
   "execution_count": 53,
   "metadata": {
    "id": "MhlKPFJH0QQx"
   },
   "outputs": [],
   "source": [
    "train_dl = DataLoader(train_ds, batch_size=BATCH_SIZE)\n",
    "val_dl = DataLoader(val_ds, batch_size=BATCH_SIZE)\n",
    "test_dl = DataLoader(test_ds, batch_size=BATCH_SIZE)"
   ]
  },
  {
   "cell_type": "code",
   "execution_count": 130,
   "metadata": {
    "id": "v4dCzned11et"
   },
   "outputs": [],
   "source": [
    "## from accelerate import accelerator\n",
    "from transformers import AdamW\n",
    "import torch.nn as nn\n",
    "\n",
    "train_args = TrainingArguments(\n",
    "    output_dir=\"./\",\n",
    "    num_train_epochs=3,\n",
    "    per_device_train_batch_size=16,\n",
    "    per_device_eval_batch_size=64,\n",
    "    warmup_steps = 500,\n",
    "    weight_decay=0.01,\n",
    "    logging_dir=\"./\",\n",
    "    logging_steps=10,\n",
    "    dataloader_pin_memory=True\n",
    ")\n",
    "\n",
    "class DistilBERTForBinaryClassification(nn.Module):\n",
    "    def __init__(self, num_classes, freeze_weights=True):\n",
    "        super(DistilBERTForBinaryClassification, self).__init__()\n",
    "        self.distilbert = DistilBertModel.from_pretrained(MODEL_NAME)\n",
    "\n",
    "        if freeze_weights:\n",
    "            for param in self.distilbert.parameters():\n",
    "                param.requires_grad = False\n",
    "\n",
    "        self.dropout1 = nn.Dropout(0.5)\n",
    "        # TODO: properly check dimensions of the layer\n",
    "        self.conv1d = nn.Conv1d(\n",
    "            self.distilbert.config.hidden_size,\n",
    "            self.distilbert.config.hidden_size // 2,\n",
    "            kernel_size=7,\n",
    "            padding='same'\n",
    "        )\n",
    "\n",
    "        self.maxp = nn.MaxPool1d(128)\n",
    "        \n",
    "        self.dropout2 = nn.Dropout(0.1)\n",
    "        self.linear2 = nn.Linear(self.distilbert.config.hidden_size // 2, num_classes)\n",
    "\n",
    "        # self.dropout2 = nn.Dropout(0.1)\n",
    "        # self.linear2 = nn.Linear(self.distilbert.config.hidden_size // 2, num_classes)\n",
    "\n",
    "\n",
    "    def forward(self, input_ids, attention_mask):\n",
    "        # pooled_output = self.distilbert(input_ids, attention_mask)\n",
    "        pooled_output = self.distilbert(input_ids, attention_mask)\n",
    "        # cls_token_state = pooled_output[0][:, 0, :]\n",
    "        pooled_output = pooled_output['last_hidden_state']\n",
    "        output = self.dropout1(pooled_output)\n",
    "        output = self.conv1d(output.permute(0,2,1))\n",
    "        output = self.maxp(output)\n",
    "        output = self.dropout2(output)\n",
    "        # TODO: figure if it is needed to permute everything back again\n",
    "        import pdb; pdb.set_trace()\n",
    "        output = self.linear2(output)\n",
    "        output = nn.Sigmoid()(output)  # Binary classification\n",
    "        # output = self.linear1(output)\n",
    "        # output = self.dropout2(output)\n",
    "        # output = self.linear2(output)\n",
    "        # output = nn.Sigmoid()(output)  # Binary classification\n",
    "        return output"
   ]
  },
  {
   "cell_type": "code",
   "execution_count": 126,
   "metadata": {
    "id": "8oC94AaAcY95",
    "jupyter": {
     "source_hidden": true
    }
   },
   "outputs": [],
   "source": [
    "import torch\n",
    "import torch.nn as nn\n",
    "from torch.utils.data import DataLoader\n",
    "from transformers import DistilBertTokenizer\n",
    "from sklearn.metrics import accuracy_score\n",
    "from tqdm import tqdm\n",
    "\n",
    "def train(model, train_dataloader, optimizer, device, prog_bar):\n",
    "    model.train()\n",
    "    total_loss = 0.0\n",
    "    total_correct = 0\n",
    "    total_samples = 0\n",
    "\n",
    "    # for batch_idx, batch in enumerate(train_dataloader):\n",
    "    for batch_idx, batch in enumerate(prog_bar):\n",
    "        optimizer.zero_grad()\n",
    "        input_ids = batch['input_ids'].to(device)\n",
    "        attention_mask = batch['attention_mask'].to(device)\n",
    "        labels = batch['labels'].to(device)\n",
    "        labels = labels.reshape(-1, 1).float()\n",
    "\n",
    "        outputs = model(input_ids, attention_mask)\n",
    "        loss = nn.BCELoss()(outputs, labels)\n",
    "        # loss = nn.CrossEntropyLoss()(outputs, labels)\n",
    "\n",
    "        # Get predictions\n",
    "        pred_labels = torch.round(outputs)\n",
    "\n",
    "        total_correct += torch.sum(pred_labels == labels.reshape(-1, 1)).item()\n",
    "        total_samples += labels.size(0)\n",
    "\n",
    "        loss.backward()\n",
    "        optimizer.step()\n",
    "\n",
    "        prog_bar.set_postfix({\n",
    "            'batch_accuracy': (total_correct / total_samples),\n",
    "            'batch_loss': loss.item()\n",
    "        })\n",
    "\n",
    "        total_loss += loss.item()\n",
    "\n",
    "    average_loss = total_loss / len(train_dataloader)\n",
    "    accuracy = total_correct / total_samples\n",
    "\n",
    "    return average_loss, accuracy\n",
    "\n",
    "def evaluate(model, eval_dataloader, device):\n",
    "    model.eval()\n",
    "    total_loss = 0.0\n",
    "    total_correct = 0\n",
    "    total_samples = 0\n",
    "    all_predictions = []\n",
    "    all_labels = []\n",
    "\n",
    "    with torch.no_grad():\n",
    "        for batch in eval_dataloader:\n",
    "            input_ids = batch['input_ids'].to(device)\n",
    "            attention_mask = batch['attention_mask'].to(device)\n",
    "            labels = batch['labels'].to(device)\n",
    "            labels = labels.reshape(-1, 1).float()\n",
    "\n",
    "            outputs = model(input_ids, attention_mask)\n",
    "            loss = nn.BCELoss()(outputs, labels)\n",
    "            # loss = nn.CrossEntropyLoss()(outputs, labels)\n",
    "\n",
    "            # Get predictions and compute accuracy and cumulative loss\n",
    "            pred_labels = torch.round(outputs)\n",
    "            total_correct += torch.sum(pred_labels == labels.reshape(-1, 1)).item()\n",
    "            total_samples += labels.size(0)\n",
    "\n",
    "            all_predictions.extend(pred_labels.cpu().tolist())\n",
    "            all_labels.extend(labels.cpu().tolist())\n",
    "            total_loss += loss.item()\n",
    "\n",
    "    average_loss = total_loss / len(eval_dataloader)\n",
    "    accuracy = total_correct / total_samples\n",
    "    accuracy = accuracy_score(all_labels, all_predictions)\n",
    "\n",
    "    return average_loss, accuracy\n",
    "\n",
    "def train_model(\n",
    "    model,\n",
    "    train_dataloader,\n",
    "    eval_dataloader,\n",
    "    optimizer,\n",
    "    device,\n",
    "    num_epochs,\n",
    "    progressively_unfreeze=False\n",
    "):\n",
    "    model.to(device)\n",
    "\n",
    "    for epoch in range(num_epochs):\n",
    "        progress_bar = tqdm(train_dataloader, desc=f'epoch {epoch +1}', unit='batch')\n",
    "        print(f\"Epoch {epoch + 1}/{num_epochs}\")\n",
    "\n",
    "        train_loss, train_acc = train(model, train_dataloader, optimizer, device, progress_bar)\n",
    "        print(f\"Train Loss: {train_loss:.4f}, Train Accuracy: {train_acc:.4f}\")\n",
    "\n",
    "        eval_loss, eval_acc = evaluate(model, eval_dataloader, device)\n",
    "        print(f\"Validation Loss: {eval_loss:.4f}, Validation Accuracy: {eval_acc:.4f}\")\n",
    "\n",
    "        # This is a naive attempt at progressively unfreezing distilbert parameters while training.x\n",
    "        # This is clearly not working for some reason\n",
    "        if progressively_unfreeze:\n",
    "            for param in list(model.distilbert.parameters())[-epoch:]:\n",
    "                 param.requires_grad = True\n",
    "\n",
    "        print()\n"
   ]
  },
  {
   "cell_type": "code",
   "execution_count": 131,
   "metadata": {
    "colab": {
     "base_uri": "https://localhost:8080/"
    },
    "id": "PjcyWVqOJxEM",
    "outputId": "f6a60abb-794e-4b42-c633-15c8ce3b4ae8"
   },
   "outputs": [
    {
     "name": "stderr",
     "output_type": "stream",
     "text": [
      "Some weights of the model checkpoint at distilbert-base-uncased were not used when initializing DistilBertModel: ['vocab_layer_norm.bias', 'vocab_transform.weight', 'vocab_layer_norm.weight', 'vocab_projector.bias', 'vocab_transform.bias']\n",
      "- This IS expected if you are initializing DistilBertModel from the checkpoint of a model trained on another task or with another architecture (e.g. initializing a BertForSequenceClassification model from a BertForPreTraining model).\n",
      "- This IS NOT expected if you are initializing DistilBertModel from the checkpoint of a model that you expect to be exactly identical (initializing a BertForSequenceClassification model from a BertForSequenceClassification model).\n"
     ]
    }
   ],
   "source": [
    "model = DistilBERTForBinaryClassification(num_classes=1)"
   ]
  },
  {
   "cell_type": "code",
   "execution_count": null,
   "metadata": {
    "colab": {
     "base_uri": "https://localhost:8080/",
     "height": 190
    },
    "id": "DdoegowJdcdb",
    "outputId": "15ac3924-c85b-48fc-aca9-c1e729ff1f66"
   },
   "outputs": [
    {
     "name": "stderr",
     "output_type": "stream",
     "text": [
      "Some weights of the model checkpoint at distilbert-base-uncased were not used when initializing DistilBertModel: ['vocab_layer_norm.bias', 'vocab_transform.weight', 'vocab_layer_norm.weight', 'vocab_projector.bias', 'vocab_transform.bias']\n",
      "- This IS expected if you are initializing DistilBertModel from the checkpoint of a model trained on another task or with another architecture (e.g. initializing a BertForSequenceClassification model from a BertForPreTraining model).\n",
      "- This IS NOT expected if you are initializing DistilBertModel from the checkpoint of a model that you expect to be exactly identical (initializing a BertForSequenceClassification model from a BertForSequenceClassification model).\n",
      "epoch 1:   0%|          | 0/625 [00:00<?, ?batch/s]"
     ]
    },
    {
     "name": "stdout",
     "output_type": "stream",
     "text": [
      "Epoch 1/8\n",
      "> \u001b[0;32m/tmp/ipykernel_32356/3495549829.py\u001b[0m(55)\u001b[0;36mforward\u001b[0;34m()\u001b[0m\n",
      "\u001b[0;32m     53 \u001b[0;31m        \u001b[0;31m# TODO: figure if it is needed to permute everything back again\u001b[0m\u001b[0;34m\u001b[0m\u001b[0;34m\u001b[0m\u001b[0m\n",
      "\u001b[0m\u001b[0;32m     54 \u001b[0;31m        \u001b[0;32mimport\u001b[0m \u001b[0mpdb\u001b[0m\u001b[0;34m;\u001b[0m \u001b[0mpdb\u001b[0m\u001b[0;34m.\u001b[0m\u001b[0mset_trace\u001b[0m\u001b[0;34m(\u001b[0m\u001b[0;34m)\u001b[0m\u001b[0;34m\u001b[0m\u001b[0;34m\u001b[0m\u001b[0m\n",
      "\u001b[0m\u001b[0;32m---> 55 \u001b[0;31m        \u001b[0moutput\u001b[0m \u001b[0;34m=\u001b[0m \u001b[0mself\u001b[0m\u001b[0;34m.\u001b[0m\u001b[0mlinear2\u001b[0m\u001b[0;34m(\u001b[0m\u001b[0moutput\u001b[0m\u001b[0;34m)\u001b[0m\u001b[0;34m\u001b[0m\u001b[0;34m\u001b[0m\u001b[0m\n",
      "\u001b[0m\u001b[0;32m     56 \u001b[0;31m        \u001b[0moutput\u001b[0m \u001b[0;34m=\u001b[0m \u001b[0mnn\u001b[0m\u001b[0;34m.\u001b[0m\u001b[0mSigmoid\u001b[0m\u001b[0;34m(\u001b[0m\u001b[0;34m)\u001b[0m\u001b[0;34m(\u001b[0m\u001b[0moutput\u001b[0m\u001b[0;34m)\u001b[0m  \u001b[0;31m# Binary classification\u001b[0m\u001b[0;34m\u001b[0m\u001b[0;34m\u001b[0m\u001b[0m\n",
      "\u001b[0m\u001b[0;32m     57 \u001b[0;31m        \u001b[0;31m# output = self.linear1(output)\u001b[0m\u001b[0;34m\u001b[0m\u001b[0;34m\u001b[0m\u001b[0m\n",
      "\u001b[0m\n"
     ]
    },
    {
     "name": "stdin",
     "output_type": "stream",
     "text": [
      "ipdb>  output[:, 0, :].shape\n"
     ]
    },
    {
     "name": "stdout",
     "output_type": "stream",
     "text": [
      "torch.Size([32, 4])\n"
     ]
    }
   ],
   "source": [
    "from transformers import AdamW\n",
    "\n",
    "model = DistilBERTForBinaryClassification(1)\n",
    "\n",
    "optim = AdamW(model.parameters(), lr=2e-5)\n",
    "train_model(model, train_dl, val_dl, optim, device, 8)"
   ]
  },
  {
   "cell_type": "code",
   "execution_count": null,
   "metadata": {
    "id": "AlTnImu_i4XE",
    "outputId": "14796cba-6c96-4e44-b3e3-1c347acbc095"
   },
   "outputs": [],
   "source": [
    "test_loss, test_accuracy = evaluate(model, test_dl, device)\n",
    "print(f'test_loss: {test_loss}')\n",
    "print(f'test_accuracy: {test_accuracy}')"
   ]
  },
  {
   "cell_type": "code",
   "execution_count": null,
   "metadata": {
    "id": "9TU4tx6ui4XE"
   },
   "outputs": [],
   "source": [
    "all_preds = []\n",
    "all_labels = []\n",
    "for idx, batch in enumerate(test_dl):\n",
    "    if idx % 50 == 0:\n",
    "        print(f'processing batch n. {idx}')\n",
    "    preds = model(batch['input_ids'], batch['attention_mask'])\n",
    "    preds = preds.cpu().round().flatten().int().tolist()  # Surely there's a better way\n",
    "    all_preds.extend(preds)\n",
    "    all_labels.extend(batch['labels'].cpu().tolist())"
   ]
  },
  {
   "cell_type": "code",
   "execution_count": 61,
   "metadata": {},
   "outputs": [
    {
     "name": "stdout",
     "output_type": "stream",
     "text": [
      "[1, 1, 1, 1, 1, 1, 1, 1, 1, 1, 1, 1, 1, 1, 1, 1, 0, 0, 1, 1]\n",
      "[1, 1, 1, 1, 1, 1, 1, 1, 1, 1, 1, 1, 1, 1, 1, 1, 1, 1, 1, 1]\n"
     ]
    }
   ],
   "source": [
    "print(all_preds[:20])\n",
    "print(all_labels[:20])"
   ]
  },
  {
   "cell_type": "code",
   "execution_count": 67,
   "metadata": {},
   "outputs": [
    {
     "name": "stdout",
     "output_type": "stream",
     "text": [
      "              precision    recall  f1-score   support\n",
      "\n",
      "           0       0.84      0.84      0.84     12500\n",
      "           1       0.84      0.84      0.84     12500\n",
      "\n",
      "    accuracy                           0.84     25000\n",
      "   macro avg       0.84      0.84      0.84     25000\n",
      "weighted avg       0.84      0.84      0.84     25000\n",
      "\n",
      "\n",
      "\n",
      "f1_score: 0.8423118516441702\n",
      "accuracy_score: 0.84252\n"
     ]
    }
   ],
   "source": [
    "from sklearn.metrics import classification_report, f1_score, accuracy_score\n",
    "\n",
    "print(classification_report(all_labels, all_preds))\n",
    "print(\"\\n\")\n",
    "print(f'f1_score: {f1_score(all_labels, all_preds)}')\n",
    "print(f'accuracy_score: {accuracy_score(all_labels, all_preds)}')"
   ]
  },
  {
   "cell_type": "code",
   "execution_count": null,
   "metadata": {},
   "outputs": [],
   "source": []
  }
 ],
 "metadata": {
  "accelerator": "GPU",
  "colab": {
   "gpuType": "T4",
   "provenance": []
  },
  "kernelspec": {
   "display_name": "Python 3 (ipykernel)",
   "language": "python",
   "name": "python3"
  },
  "language_info": {
   "codemirror_mode": {
    "name": "ipython",
    "version": 3
   },
   "file_extension": ".py",
   "mimetype": "text/x-python",
   "name": "python",
   "nbconvert_exporter": "python",
   "pygments_lexer": "ipython3",
   "version": "3.10.11"
  }
 },
 "nbformat": 4,
 "nbformat_minor": 4
}
