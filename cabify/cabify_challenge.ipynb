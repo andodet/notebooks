{
 "cells": [
  {
   "cell_type": "markdown",
   "metadata": {},
   "source": [
    "# Cabify technical challenge"
   ]
  },
  {
   "cell_type": "markdown",
   "metadata": {},
   "source": [
    "### Background\n",
    "A ride hailing app currently assigns new incoming trips to the closest available vehicle. To compute such distance, the app currently computes haversine distance between the pickup point and each of the available vehicles. We refer to this distance as linear.\n",
    "\n",
    "However, the expected time to reach A from B in a city is not 100% defined by Haversine distance: Cities are known to be places where huge amount of transport infrastructure (roads, highways, bridges, tunnels) is deployed to increase capacity and reduce average travel time. Interestingly, this heavy investment in infrastructure also implies that bird distance does not work so well as proxy, so the isochrones for travel time from certain location drastically differ from the perfect circle defined by bird distance, as we can see in this example from CDMX where the blue area represents that it is reachable within a 10 min drive.\n",
    "\n",
    "In addition to this, travel times can be drastically affected by traffic, accidents, road work...So that even if a driver is only 300m away, he might need to drive for 10 min because of road work in a bridge.\n",
    "\n",
    "### Proposal\n",
    "In order to optimise operations, engineering team has suggested they could query an external real time maps API that not only has roads, but also knows realtime traffic information. We refer to this distance as road distance.\n",
    "\n",
    "In principle this assigment is more efficient and should outperform linear. However, the queries to the maps API have a certain cost (per query) and increase the complexity and reliability of a critical system within the company. So Data Science team has designed an experiment to help engineering to decide\n",
    "\n",
    "Experimental design\n",
    "The designed expirement is very simple. For a period of 5 days, all trips in 3 cities (Bravos, Pentos and Volantis) have been randomly assigned using linear or road distance:\n",
    "\n",
    "* Trips whose trip_id starts with digits 0-8 were assigned using road distance\n",
    "* Trips whose trip_id starts with digits 9-f were assigned using linear distance\n",
    "\n",
    "### Data description\n",
    "\n",
    "The collected data is available available in this link. Each object represent a vehicle_interval that contains the following attributes:\n",
    "\n",
    "type: can be going_to_pickup, waiting_for_rider or driving_to_destination\n",
    "trip_id: uniquely identifies the trip\n",
    "duration: how long the interval last, in seconds\n",
    "distance: how far the vehicle moved in this interval, in meters\n",
    "city_id: either bravos, pentos and volantis\n",
    "started_at: when the interval started, UTC Time\n",
    "vehicle_id: uniquely identifies the vehicle\n",
    "rider_id: uniquely identifies the rider\n",
    "\n",
    "Example\n",
    "```\n",
    "{\n",
    "  \"duration\": 857,\n",
    "  \"distance\": 5384,\n",
    "  \"started_at\": 1475499600.287,\n",
    "  \"trip_id\": \"c00cee6963e0dc66e50e271239426914\",\n",
    "  \"vehicle_id\": \"52d38cf1a3240d5cbdcf730f2d9a47d6\",\n",
    "  \"city_id\": \"pentos\",\n",
    "  \"type\": \"driving_to_destination\"\n",
    "}\n",
    "```\n",
    "Challenge\n",
    "Try to answer the following questions\n",
    "\n",
    "1. Should the company move towards road distance? What's the max price it would make sense to pay per query? (make all the assumptions you need, and make them explicit)\n",
    "2. How would you improve the experimental design? Would you collect any additional data?\n",
    "\n",
    "--------\n",
    "\n",
    "Data can be downloaded from [here](https://www.dropbox.com/s/e3j1pybfz5o3vq9/intervals_challenge.json.gz?dl=0)."
   ]
  },
  {
   "cell_type": "markdown",
   "metadata": {},
   "source": [
    "## Exploratory analysis"
   ]
  },
  {
   "cell_type": "code",
   "execution_count": 1,
   "metadata": {},
   "outputs": [],
   "source": [
    "import scipy\n",
    "import pandas as pd\n",
    "import numpy as np\n",
    "import datetime as dt\n",
    "import matplotlib.pyplot as plt\n",
    "import scipy.stats as st\n",
    "import seaborn as sns"
   ]
  },
  {
   "cell_type": "code",
   "execution_count": 2,
   "metadata": {},
   "outputs": [],
   "source": [
    "df = pd.read_json(\"/home/andodet/code/notebooks/cabify/intervals_challenge.json\", lines=True)"
   ]
  },
  {
   "cell_type": "code",
   "execution_count": 3,
   "metadata": {},
   "outputs": [
    {
     "name": "stdout",
     "output_type": "stream",
     "text": [
      "<class 'pandas.core.frame.DataFrame'>\n",
      "RangeIndex: 165170 entries, 0 to 165169\n",
      "Data columns (total 7 columns):\n",
      " #   Column      Non-Null Count   Dtype         \n",
      "---  ------      --------------   -----         \n",
      " 0   duration    165170 non-null  object        \n",
      " 1   distance    165170 non-null  object        \n",
      " 2   started_at  165170 non-null  datetime64[ns]\n",
      " 3   trip_id     165170 non-null  object        \n",
      " 4   vehicle_id  165170 non-null  object        \n",
      " 5   city_id     165170 non-null  object        \n",
      " 6   type        165170 non-null  object        \n",
      "dtypes: datetime64[ns](1), object(6)\n",
      "memory usage: 8.8+ MB\n"
     ]
    }
   ],
   "source": [
    "df.info()"
   ]
  },
  {
   "cell_type": "code",
   "execution_count": 4,
   "metadata": {},
   "outputs": [
    {
     "data": {
      "text/html": [
       "<div>\n",
       "<style scoped>\n",
       "    .dataframe tbody tr th:only-of-type {\n",
       "        vertical-align: middle;\n",
       "    }\n",
       "\n",
       "    .dataframe tbody tr th {\n",
       "        vertical-align: top;\n",
       "    }\n",
       "\n",
       "    .dataframe thead th {\n",
       "        text-align: right;\n",
       "    }\n",
       "</style>\n",
       "<table border=\"1\" class=\"dataframe\">\n",
       "  <thead>\n",
       "    <tr style=\"text-align: right;\">\n",
       "      <th></th>\n",
       "      <th>duration</th>\n",
       "      <th>distance</th>\n",
       "      <th>started_at</th>\n",
       "      <th>trip_id</th>\n",
       "      <th>vehicle_id</th>\n",
       "      <th>city_id</th>\n",
       "      <th>type</th>\n",
       "    </tr>\n",
       "  </thead>\n",
       "  <tbody>\n",
       "    <tr>\n",
       "      <th>0</th>\n",
       "      <td>857</td>\n",
       "      <td>5384</td>\n",
       "      <td>2016-10-03 13:00:00.286999941</td>\n",
       "      <td>c00cee6963e0dc66e50e271239426914</td>\n",
       "      <td>52d38cf1a3240d5cbdcf730f2d9a47d6</td>\n",
       "      <td>pentos</td>\n",
       "      <td>driving_to_destination</td>\n",
       "    </tr>\n",
       "    <tr>\n",
       "      <th>1</th>\n",
       "      <td>245</td>\n",
       "      <td>1248</td>\n",
       "      <td>2016-10-03 13:00:00.852999926</td>\n",
       "      <td>427425e1f4318ca2461168bdd6e4fcbd</td>\n",
       "      <td>8336b28f24c3e7a1e3d582073b164895</td>\n",
       "      <td>volantis</td>\n",
       "      <td>going_to_pickup</td>\n",
       "    </tr>\n",
       "    <tr>\n",
       "      <th>2</th>\n",
       "      <td>1249</td>\n",
       "      <td>5847</td>\n",
       "      <td>2016-10-03 13:00:01.670000076</td>\n",
       "      <td>757867f6d7c00ef92a65bfaa3895943f</td>\n",
       "      <td>8885c59374cc539163e83f01ed59fd16</td>\n",
       "      <td>pentos</td>\n",
       "      <td>driving_to_destination</td>\n",
       "    </tr>\n",
       "    <tr>\n",
       "      <th>3</th>\n",
       "      <td>471</td>\n",
       "      <td>2585</td>\n",
       "      <td>2016-10-03 13:00:01.841000080</td>\n",
       "      <td>d09d1301d361f7359d0d936557d10f89</td>\n",
       "      <td>81b63920454f70b6755a494e3b28b3a7</td>\n",
       "      <td>bravos</td>\n",
       "      <td>going_to_pickup</td>\n",
       "    </tr>\n",
       "    <tr>\n",
       "      <th>4</th>\n",
       "      <td>182</td>\n",
       "      <td>743</td>\n",
       "      <td>2016-10-03 13:00:01.970000029</td>\n",
       "      <td>00f20a701f0ec2519353ef3ffaf75068</td>\n",
       "      <td>b73030977cbad61c9db55418909864fa</td>\n",
       "      <td>pentos</td>\n",
       "      <td>going_to_pickup</td>\n",
       "    </tr>\n",
       "    <tr>\n",
       "      <th>...</th>\n",
       "      <td>...</td>\n",
       "      <td>...</td>\n",
       "      <td>...</td>\n",
       "      <td>...</td>\n",
       "      <td>...</td>\n",
       "      <td>...</td>\n",
       "      <td>...</td>\n",
       "    </tr>\n",
       "    <tr>\n",
       "      <th>165165</th>\n",
       "      <td>NA</td>\n",
       "      <td>NA</td>\n",
       "      <td>2016-10-04 20:36:10.846999884</td>\n",
       "      <td>d2f81b419daddb90bd701ab9870f47a3</td>\n",
       "      <td>05e4532a59b7bfe65894335d1bc83e4d</td>\n",
       "      <td>volantis</td>\n",
       "      <td>driving_to_destination</td>\n",
       "    </tr>\n",
       "    <tr>\n",
       "      <th>165166</th>\n",
       "      <td>NA</td>\n",
       "      <td>NA</td>\n",
       "      <td>2016-10-04 20:36:12.719000101</td>\n",
       "      <td>73a07d4504036997306e0e3330529294</td>\n",
       "      <td>bed6dd187f23b3e8d956bb0d1ab0524a</td>\n",
       "      <td>volantis</td>\n",
       "      <td>waiting_for_rider</td>\n",
       "    </tr>\n",
       "    <tr>\n",
       "      <th>165167</th>\n",
       "      <td>NA</td>\n",
       "      <td>NA</td>\n",
       "      <td>2016-10-04 20:36:14.763000011</td>\n",
       "      <td>d98c047d565bd488b17e08594965c479</td>\n",
       "      <td>31cd2f19d27c0c0c0ca386de72866a81</td>\n",
       "      <td>bravos</td>\n",
       "      <td>driving_to_destination</td>\n",
       "    </tr>\n",
       "    <tr>\n",
       "      <th>165168</th>\n",
       "      <td>NA</td>\n",
       "      <td>NA</td>\n",
       "      <td>2016-10-04 20:36:15.957999945</td>\n",
       "      <td>ce9a7ae5f76667c9f92b149a1b345a2d</td>\n",
       "      <td>4a555013634506246eed5d801ffbe526</td>\n",
       "      <td>volantis</td>\n",
       "      <td>driving_to_destination</td>\n",
       "    </tr>\n",
       "    <tr>\n",
       "      <th>165169</th>\n",
       "      <td>NA</td>\n",
       "      <td>NA</td>\n",
       "      <td>2016-10-04 20:36:20.473999977</td>\n",
       "      <td>469dff3624a9a37bb986157750fb73e8</td>\n",
       "      <td>27b7111eb7046e253c9896eee617b02e</td>\n",
       "      <td>volantis</td>\n",
       "      <td>going_to_pickup</td>\n",
       "    </tr>\n",
       "  </tbody>\n",
       "</table>\n",
       "<p>165170 rows × 7 columns</p>\n",
       "</div>"
      ],
      "text/plain": [
       "       duration distance                    started_at  \\\n",
       "0           857     5384 2016-10-03 13:00:00.286999941   \n",
       "1           245     1248 2016-10-03 13:00:00.852999926   \n",
       "2          1249     5847 2016-10-03 13:00:01.670000076   \n",
       "3           471     2585 2016-10-03 13:00:01.841000080   \n",
       "4           182      743 2016-10-03 13:00:01.970000029   \n",
       "...         ...      ...                           ...   \n",
       "165165       NA       NA 2016-10-04 20:36:10.846999884   \n",
       "165166       NA       NA 2016-10-04 20:36:12.719000101   \n",
       "165167       NA       NA 2016-10-04 20:36:14.763000011   \n",
       "165168       NA       NA 2016-10-04 20:36:15.957999945   \n",
       "165169       NA       NA 2016-10-04 20:36:20.473999977   \n",
       "\n",
       "                                 trip_id                        vehicle_id  \\\n",
       "0       c00cee6963e0dc66e50e271239426914  52d38cf1a3240d5cbdcf730f2d9a47d6   \n",
       "1       427425e1f4318ca2461168bdd6e4fcbd  8336b28f24c3e7a1e3d582073b164895   \n",
       "2       757867f6d7c00ef92a65bfaa3895943f  8885c59374cc539163e83f01ed59fd16   \n",
       "3       d09d1301d361f7359d0d936557d10f89  81b63920454f70b6755a494e3b28b3a7   \n",
       "4       00f20a701f0ec2519353ef3ffaf75068  b73030977cbad61c9db55418909864fa   \n",
       "...                                  ...                               ...   \n",
       "165165  d2f81b419daddb90bd701ab9870f47a3  05e4532a59b7bfe65894335d1bc83e4d   \n",
       "165166  73a07d4504036997306e0e3330529294  bed6dd187f23b3e8d956bb0d1ab0524a   \n",
       "165167  d98c047d565bd488b17e08594965c479  31cd2f19d27c0c0c0ca386de72866a81   \n",
       "165168  ce9a7ae5f76667c9f92b149a1b345a2d  4a555013634506246eed5d801ffbe526   \n",
       "165169  469dff3624a9a37bb986157750fb73e8  27b7111eb7046e253c9896eee617b02e   \n",
       "\n",
       "         city_id                    type  \n",
       "0         pentos  driving_to_destination  \n",
       "1       volantis         going_to_pickup  \n",
       "2         pentos  driving_to_destination  \n",
       "3         bravos         going_to_pickup  \n",
       "4         pentos         going_to_pickup  \n",
       "...          ...                     ...  \n",
       "165165  volantis  driving_to_destination  \n",
       "165166  volantis       waiting_for_rider  \n",
       "165167    bravos  driving_to_destination  \n",
       "165168  volantis  driving_to_destination  \n",
       "165169  volantis         going_to_pickup  \n",
       "\n",
       "[165170 rows x 7 columns]"
      ]
     },
     "execution_count": 4,
     "metadata": {},
     "output_type": "execute_result"
    }
   ],
   "source": [
    "df"
   ]
  },
  {
   "cell_type": "markdown",
   "metadata": {},
   "source": [
    "\"NA\" (str) is used for `nan` values. Let's reflect that."
   ]
  },
  {
   "cell_type": "code",
   "execution_count": 5,
   "metadata": {},
   "outputs": [],
   "source": [
    "# Replace \"NA\" strings with nan\n",
    "df = df.replace(\"NA\", np.nan, regex=True)"
   ]
  },
  {
   "cell_type": "code",
   "execution_count": 7,
   "metadata": {},
   "outputs": [
    {
     "data": {
      "text/plain": [
       "duration      1157\n",
       "distance      1157\n",
       "started_at       0\n",
       "trip_id          0\n",
       "vehicle_id       0\n",
       "city_id          0\n",
       "type             0\n",
       "dtype: int64"
      ]
     },
     "execution_count": 7,
     "metadata": {},
     "output_type": "execute_result"
    }
   ],
   "source": [
    "# Count nan values\n",
    "df.isna().sum()"
   ]
  },
  {
   "cell_type": "code",
   "execution_count": 8,
   "metadata": {},
   "outputs": [],
   "source": [
    "# Out of 165170 rows, we can live without 1157 trips\n",
    "df = df.dropna()"
   ]
  },
  {
   "cell_type": "markdown",
   "metadata": {},
   "source": [
    "Trips seems to be of three types:\n",
    "\n",
    "* `driving to destination`\n",
    "* `going to pickup`\n",
    "* `waiting for rider`"
   ]
  },
  {
   "cell_type": "code",
   "execution_count": 9,
   "metadata": {},
   "outputs": [
    {
     "data": {
      "text/plain": [
       "type\n",
       "driving_to_destination    52098\n",
       "going_to_pickup           58170\n",
       "waiting_for_rider         53702\n",
       "Name: trip_id, dtype: int64"
      ]
     },
     "execution_count": 9,
     "metadata": {},
     "output_type": "execute_result"
    }
   ],
   "source": [
    "df.groupby(\"type\")[\"trip_id\"].nunique()"
   ]
  },
  {
   "cell_type": "markdown",
   "metadata": {},
   "source": [
    "We need to observe trip speed, hence we're not going to take `waiting for rider` status into account as it is not relevant for the task."
   ]
  },
  {
   "cell_type": "code",
   "execution_count": 10,
   "metadata": {},
   "outputs": [],
   "source": [
    "df = df[df[\"type\"] != \"waiting_for_rider\"]"
   ]
  },
  {
   "cell_type": "code",
   "execution_count": 12,
   "metadata": {},
   "outputs": [
    {
     "data": {
      "text/plain": [
       "0   2016-10-03 13:00:00.286999941\n",
       "1   2016-10-03 13:00:00.852999926\n",
       "2   2016-10-03 13:00:01.670000076\n",
       "3   2016-10-03 13:00:01.841000080\n",
       "4   2016-10-03 13:00:01.970000029\n",
       "Name: started_at, dtype: datetime64[ns]"
      ]
     },
     "execution_count": 12,
     "metadata": {},
     "output_type": "execute_result"
    }
   ],
   "source": [
    "# Inspect date format\n",
    "df[\"started_at\"].head()"
   ]
  },
  {
   "cell_type": "code",
   "execution_count": 13,
   "metadata": {},
   "outputs": [],
   "source": [
    "# Reformat dates\n",
    "df[\"started_at\"] = pd.to_datetime(df.started_at)\n",
    "\n",
    "# Get additional features\n",
    "df[\"day\"] = df[\"started_at\"].dt.day\n",
    "df[\"hour\"] = df[\"started_at\"].dt.hour\n",
    "df[\"minute\"] = df[\"started_at\"].dt.minute"
   ]
  },
  {
   "cell_type": "markdown",
   "metadata": {},
   "source": [
    "From the variables just created it's possible to bin them into categorical features to signal day/afternoon/night time rides."
   ]
  },
  {
   "cell_type": "code",
   "execution_count": 14,
   "metadata": {},
   "outputs": [],
   "source": [
    "# Bin by time of the day\n",
    "df[\"night\"] = np.where(df.hour < 8, 1, 0)\n",
    "df[\"day\"] = np.where((df.hour > 8) & (df.hour < 16),1, 0)\n",
    "df[\"afternoon\"] = np.where((df.hour > 16), 1, 0)"
   ]
  },
  {
   "cell_type": "markdown",
   "metadata": {},
   "source": [
    "From challenge description, let's assign whether or not the trip used _road distance_ or _haversine distance_."
   ]
  },
  {
   "cell_type": "code",
   "execution_count": 15,
   "metadata": {},
   "outputs": [],
   "source": [
    "def get_metric(trip_id):\n",
    "    \"\"\"\n",
    "    Encodes whether a trip was taken using haversine or road distance.\n",
    "    From a trip_id, if first digit is 0-8 retunrs `linear`, `custom` otherwise.\n",
    "    \n",
    "    Arggs:\n",
    "        trip_id (str): a trip id\n",
    "        \n",
    "    Returns:\n",
    "        str: `linear` if distance is computed using haversine\n",
    "            `custom` if distance is computed using road-distance API\n",
    "    \"\"\"\n",
    "    \n",
    "    first_char = trip_id[0]\n",
    "    try:\n",
    "        first_char = int(first_char)\n",
    "        if first_char in range(0, 8):\n",
    "            return(\"linear\")\n",
    "        else:\n",
    "            return(\"custom\")\n",
    "    except:\n",
    "        return(\"custom\")\n",
    "        \n",
    "df[\"metric\"] = df.apply(lambda x: get_metric(x.trip_id), axis=1)"
   ]
  },
  {
   "cell_type": "code",
   "execution_count": 16,
   "metadata": {},
   "outputs": [
    {
     "data": {
      "text/plain": [
       "metric\n",
       "custom    54765\n",
       "linear    55544\n",
       "Name: trip_id, dtype: int64"
      ]
     },
     "execution_count": 16,
     "metadata": {},
     "output_type": "execute_result"
    }
   ],
   "source": [
    "df.groupby(\"metric\")[\"trip_id\"].count()"
   ]
  },
  {
   "cell_type": "markdown",
   "metadata": {},
   "source": [
    "Let's get a sense of hourly distribution for rides.\n",
    "\n",
    "If important, we could also check if the distribution changes in weekdays vs. weekend."
   ]
  },
  {
   "cell_type": "code",
   "execution_count": 17,
   "metadata": {},
   "outputs": [
    {
     "data": {
      "text/plain": [
       "Text(0, 0.5, 'n. rides')"
      ]
     },
     "execution_count": 17,
     "metadata": {},
     "output_type": "execute_result"
    },
    {
     "data": {
      "image/png": "[encoded data removed]",
      "text/plain": [
       "<Figure size 720x144 with 1 Axes>"
      ]
     },
     "metadata": {
      "needs_background": "light"
     },
     "output_type": "display_data"
    }
   ],
   "source": [
    "plt.figure(figsize=(10, 2))\n",
    "\n",
    "data_plt = df.groupby(\"hour\").agg({\"trip_id\": \"count\"}).reset_index()\n",
    "sns.barplot(x=\"hour\", y=\"trip_id\", data=data_plt)\n",
    "\n",
    "plt.title(\"Rides by HOD\")\n",
    "plt.xlabel(\"hour of the day\")\n",
    "plt.ylabel(\"n. rides\")"
   ]
  },
  {
   "cell_type": "markdown",
   "metadata": {},
   "source": [
    "## Data cleaning"
   ]
  },
  {
   "cell_type": "markdown",
   "metadata": {},
   "source": [
    "### Distance"
   ]
  },
  {
   "cell_type": "markdown",
   "metadata": {},
   "source": [
    "let's check for outliers in continuous variables."
   ]
  },
  {
   "cell_type": "code",
   "execution_count": 18,
   "metadata": {},
   "outputs": [
    {
     "data": {
      "text/plain": [
       "<matplotlib.axes._subplots.AxesSubplot at 0x7f0a1dc4cf90>"
      ]
     },
     "execution_count": 18,
     "metadata": {},
     "output_type": "execute_result"
    },
    {
     "data": {
      "image/png": "[encoded data removed]",
      "text/plain": [
       "<Figure size 432x288 with 1 Axes>"
      ]
     },
     "metadata": {
      "needs_background": "light"
     },
     "output_type": "display_data"
    }
   ],
   "source": [
    "dist = [df[df['metric']=='custom'].distance,df[df['metric']!='custom'].distance]\n",
    "sns.boxplot(data=dist)"
   ]
  },
  {
   "cell_type": "code",
   "execution_count": 19,
   "metadata": {},
   "outputs": [
    {
     "data": {
      "text/plain": [
       "<matplotlib.axes._subplots.AxesSubplot at 0x7f0a1dbf4bd0>"
      ]
     },
     "execution_count": 19,
     "metadata": {},
     "output_type": "execute_result"
    },
    {
     "data": {
      "image/png": "[encoded data removed]",
      "text/plain": [
       "<Figure size 432x288 with 1 Axes>"
      ]
     },
     "metadata": {
      "needs_background": "light"
     },
     "output_type": "display_data"
    }
   ],
   "source": [
    "df[\"distance\"] = st.mstats.winsorize(df.distance, limits = 0.01)  # Clipping extreme values\n",
    "\n",
    "# Plot again\n",
    "dist = [df[df['metric']=='custom'].distance,df[df['metric'] != 'custom'].distance]\n",
    "sns.violinplot(data=dist)"
   ]
  },
  {
   "cell_type": "markdown",
   "metadata": {},
   "source": [
    "### Duration"
   ]
  },
  {
   "cell_type": "code",
   "execution_count": 20,
   "metadata": {},
   "outputs": [
    {
     "data": {
      "text/plain": [
       "<matplotlib.axes._subplots.AxesSubplot at 0x7f0a1dc0f390>"
      ]
     },
     "execution_count": 20,
     "metadata": {},
     "output_type": "execute_result"
    },
    {
     "data": {
      "image/png": "[encoded data removed]",
      "text/plain": [
       "<Figure size 432x288 with 1 Axes>"
      ]
     },
     "metadata": {
      "needs_background": "light"
     },
     "output_type": "display_data"
    }
   ],
   "source": [
    "duration = [df[df['metric']=='custom'].duration,df[df['metric'] != 'custom'].duration]\n",
    "sns.violinplot(data=duration)"
   ]
  },
  {
   "cell_type": "code",
   "execution_count": 21,
   "metadata": {},
   "outputs": [
    {
     "data": {
      "text/plain": [
       "<matplotlib.axes._subplots.AxesSubplot at 0x7f0a1dbb4290>"
      ]
     },
     "execution_count": 21,
     "metadata": {},
     "output_type": "execute_result"
    },
    {
     "data": {
      "image/png": "[encoded data removed]",
      "text/plain": [
       "<Figure size 432x288 with 1 Axes>"
      ]
     },
     "metadata": {
      "needs_background": "light"
     },
     "output_type": "display_data"
    }
   ],
   "source": [
    "df[\"duration\"] = st.mstats.winsorize(df.duration, limits = 0.01)\n",
    "\n",
    "duration = [df[df['metric']=='custom'].duration,df[df['metric']!='custom'].duration]\n",
    "sns.violinplot(data=duration)"
   ]
  },
  {
   "cell_type": "markdown",
   "metadata": {},
   "source": [
    "### Speed"
   ]
  },
  {
   "cell_type": "code",
   "execution_count": 22,
   "metadata": {},
   "outputs": [],
   "source": [
    "df[\"speed\"] = df[\"distance\"] / df[\"duration\"]"
   ]
  },
  {
   "cell_type": "code",
   "execution_count": 23,
   "metadata": {},
   "outputs": [
    {
     "data": {
      "text/plain": [
       "<matplotlib.axes._subplots.AxesSubplot at 0x7f0a1dbd9690>"
      ]
     },
     "execution_count": 23,
     "metadata": {},
     "output_type": "execute_result"
    },
    {
     "data": {
      "image/png": "[encoded data removed]",
      "text/plain": [
       "<Figure size 432x288 with 1 Axes>"
      ]
     },
     "metadata": {
      "needs_background": "light"
     },
     "output_type": "display_data"
    }
   ],
   "source": [
    "df[\"speed\"] = st.mstats.winsorize(df.speed, limits=0.01)\n",
    "speed = [df[df['metric']=='custom'].speed,df[df['metric'] != 'custom'].speed]\n",
    "sns.violinplot(data=speed)"
   ]
  },
  {
   "cell_type": "markdown",
   "metadata": {},
   "source": [
    "## Check distribution difference - t-test"
   ]
  },
  {
   "cell_type": "markdown",
   "metadata": {},
   "source": [
    "From summary statistics, trip metrics seem to be the same between the two different apis."
   ]
  },
  {
   "cell_type": "code",
   "execution_count": 24,
   "metadata": {},
   "outputs": [
    {
     "data": {
      "text/html": [
       "<div>\n",
       "<style scoped>\n",
       "    .dataframe tbody tr th:only-of-type {\n",
       "        vertical-align: middle;\n",
       "    }\n",
       "\n",
       "    .dataframe tbody tr th {\n",
       "        vertical-align: top;\n",
       "    }\n",
       "\n",
       "    .dataframe thead th {\n",
       "        text-align: right;\n",
       "    }\n",
       "</style>\n",
       "<table border=\"1\" class=\"dataframe\">\n",
       "  <thead>\n",
       "    <tr style=\"text-align: right;\">\n",
       "      <th></th>\n",
       "      <th>duration</th>\n",
       "      <th>distance</th>\n",
       "      <th>day</th>\n",
       "      <th>hour</th>\n",
       "      <th>minute</th>\n",
       "      <th>night</th>\n",
       "      <th>afternoon</th>\n",
       "      <th>speed</th>\n",
       "    </tr>\n",
       "  </thead>\n",
       "  <tbody>\n",
       "    <tr>\n",
       "      <th>count</th>\n",
       "      <td>54765.000000</td>\n",
       "      <td>54765.000000</td>\n",
       "      <td>54765.000000</td>\n",
       "      <td>54765.000000</td>\n",
       "      <td>54765.000000</td>\n",
       "      <td>54765.000000</td>\n",
       "      <td>54765.000000</td>\n",
       "      <td>54765.000000</td>\n",
       "    </tr>\n",
       "    <tr>\n",
       "      <th>mean</th>\n",
       "      <td>597.166822</td>\n",
       "      <td>2676.068894</td>\n",
       "      <td>0.345166</td>\n",
       "      <td>15.126796</td>\n",
       "      <td>29.224979</td>\n",
       "      <td>0.101890</td>\n",
       "      <td>0.458906</td>\n",
       "      <td>3.868999</td>\n",
       "    </tr>\n",
       "    <tr>\n",
       "      <th>std</th>\n",
       "      <td>520.552687</td>\n",
       "      <td>3338.003525</td>\n",
       "      <td>0.475427</td>\n",
       "      <td>5.587488</td>\n",
       "      <td>17.370131</td>\n",
       "      <td>0.302506</td>\n",
       "      <td>0.498313</td>\n",
       "      <td>2.402074</td>\n",
       "    </tr>\n",
       "    <tr>\n",
       "      <th>min</th>\n",
       "      <td>7.000000</td>\n",
       "      <td>0.000000</td>\n",
       "      <td>0.000000</td>\n",
       "      <td>0.000000</td>\n",
       "      <td>0.000000</td>\n",
       "      <td>0.000000</td>\n",
       "      <td>0.000000</td>\n",
       "      <td>0.000000</td>\n",
       "    </tr>\n",
       "    <tr>\n",
       "      <th>25%</th>\n",
       "      <td>217.000000</td>\n",
       "      <td>578.000000</td>\n",
       "      <td>0.000000</td>\n",
       "      <td>13.000000</td>\n",
       "      <td>14.000000</td>\n",
       "      <td>0.000000</td>\n",
       "      <td>0.000000</td>\n",
       "      <td>2.339652</td>\n",
       "    </tr>\n",
       "    <tr>\n",
       "      <th>50%</th>\n",
       "      <td>432.000000</td>\n",
       "      <td>1465.000000</td>\n",
       "      <td>0.000000</td>\n",
       "      <td>16.000000</td>\n",
       "      <td>29.000000</td>\n",
       "      <td>0.000000</td>\n",
       "      <td>0.000000</td>\n",
       "      <td>3.514124</td>\n",
       "    </tr>\n",
       "    <tr>\n",
       "      <th>75%</th>\n",
       "      <td>832.000000</td>\n",
       "      <td>3486.000000</td>\n",
       "      <td>1.000000</td>\n",
       "      <td>19.000000</td>\n",
       "      <td>44.000000</td>\n",
       "      <td>0.000000</td>\n",
       "      <td>1.000000</td>\n",
       "      <td>4.874439</td>\n",
       "    </tr>\n",
       "    <tr>\n",
       "      <th>max</th>\n",
       "      <td>2583.000000</td>\n",
       "      <td>19335.000000</td>\n",
       "      <td>1.000000</td>\n",
       "      <td>23.000000</td>\n",
       "      <td>59.000000</td>\n",
       "      <td>1.000000</td>\n",
       "      <td>1.000000</td>\n",
       "      <td>15.083333</td>\n",
       "    </tr>\n",
       "  </tbody>\n",
       "</table>\n",
       "</div>"
      ],
      "text/plain": [
       "           duration      distance           day          hour        minute  \\\n",
       "count  54765.000000  54765.000000  54765.000000  54765.000000  54765.000000   \n",
       "mean     597.166822   2676.068894      0.345166     15.126796     29.224979   \n",
       "std      520.552687   3338.003525      0.475427      5.587488     17.370131   \n",
       "min        7.000000      0.000000      0.000000      0.000000      0.000000   \n",
       "25%      217.000000    578.000000      0.000000     13.000000     14.000000   \n",
       "50%      432.000000   1465.000000      0.000000     16.000000     29.000000   \n",
       "75%      832.000000   3486.000000      1.000000     19.000000     44.000000   \n",
       "max     2583.000000  19335.000000      1.000000     23.000000     59.000000   \n",
       "\n",
       "              night     afternoon         speed  \n",
       "count  54765.000000  54765.000000  54765.000000  \n",
       "mean       0.101890      0.458906      3.868999  \n",
       "std        0.302506      0.498313      2.402074  \n",
       "min        0.000000      0.000000      0.000000  \n",
       "25%        0.000000      0.000000      2.339652  \n",
       "50%        0.000000      0.000000      3.514124  \n",
       "75%        0.000000      1.000000      4.874439  \n",
       "max        1.000000      1.000000     15.083333  "
      ]
     },
     "execution_count": 24,
     "metadata": {},
     "output_type": "execute_result"
    }
   ],
   "source": [
    "df[df[\"metric\"] == \"custom\"].describe()"
   ]
  },
  {
   "cell_type": "code",
   "execution_count": 25,
   "metadata": {},
   "outputs": [
    {
     "data": {
      "text/html": [
       "<div>\n",
       "<style scoped>\n",
       "    .dataframe tbody tr th:only-of-type {\n",
       "        vertical-align: middle;\n",
       "    }\n",
       "\n",
       "    .dataframe tbody tr th {\n",
       "        vertical-align: top;\n",
       "    }\n",
       "\n",
       "    .dataframe thead th {\n",
       "        text-align: right;\n",
       "    }\n",
       "</style>\n",
       "<table border=\"1\" class=\"dataframe\">\n",
       "  <thead>\n",
       "    <tr style=\"text-align: right;\">\n",
       "      <th></th>\n",
       "      <th>duration</th>\n",
       "      <th>distance</th>\n",
       "      <th>day</th>\n",
       "      <th>hour</th>\n",
       "      <th>minute</th>\n",
       "      <th>night</th>\n",
       "      <th>afternoon</th>\n",
       "      <th>speed</th>\n",
       "    </tr>\n",
       "  </thead>\n",
       "  <tbody>\n",
       "    <tr>\n",
       "      <th>count</th>\n",
       "      <td>55544.000000</td>\n",
       "      <td>55544.000000</td>\n",
       "      <td>55544.000000</td>\n",
       "      <td>55544.000000</td>\n",
       "      <td>55544.000000</td>\n",
       "      <td>55544.000000</td>\n",
       "      <td>55544.000000</td>\n",
       "      <td>55544.000000</td>\n",
       "    </tr>\n",
       "    <tr>\n",
       "      <th>mean</th>\n",
       "      <td>599.311087</td>\n",
       "      <td>2698.888503</td>\n",
       "      <td>0.345834</td>\n",
       "      <td>15.118879</td>\n",
       "      <td>29.182306</td>\n",
       "      <td>0.102783</td>\n",
       "      <td>0.457277</td>\n",
       "      <td>3.891875</td>\n",
       "    </tr>\n",
       "    <tr>\n",
       "      <th>std</th>\n",
       "      <td>523.569971</td>\n",
       "      <td>3361.819633</td>\n",
       "      <td>0.475644</td>\n",
       "      <td>5.603220</td>\n",
       "      <td>17.349417</td>\n",
       "      <td>0.303678</td>\n",
       "      <td>0.498176</td>\n",
       "      <td>2.419979</td>\n",
       "    </tr>\n",
       "    <tr>\n",
       "      <th>min</th>\n",
       "      <td>7.000000</td>\n",
       "      <td>0.000000</td>\n",
       "      <td>0.000000</td>\n",
       "      <td>0.000000</td>\n",
       "      <td>0.000000</td>\n",
       "      <td>0.000000</td>\n",
       "      <td>0.000000</td>\n",
       "      <td>0.000000</td>\n",
       "    </tr>\n",
       "    <tr>\n",
       "      <th>25%</th>\n",
       "      <td>217.000000</td>\n",
       "      <td>581.000000</td>\n",
       "      <td>0.000000</td>\n",
       "      <td>13.000000</td>\n",
       "      <td>14.000000</td>\n",
       "      <td>0.000000</td>\n",
       "      <td>0.000000</td>\n",
       "      <td>2.349597</td>\n",
       "    </tr>\n",
       "    <tr>\n",
       "      <th>50%</th>\n",
       "      <td>433.000000</td>\n",
       "      <td>1481.000000</td>\n",
       "      <td>0.000000</td>\n",
       "      <td>16.000000</td>\n",
       "      <td>29.000000</td>\n",
       "      <td>0.000000</td>\n",
       "      <td>0.000000</td>\n",
       "      <td>3.524687</td>\n",
       "    </tr>\n",
       "    <tr>\n",
       "      <th>75%</th>\n",
       "      <td>834.000000</td>\n",
       "      <td>3522.000000</td>\n",
       "      <td>1.000000</td>\n",
       "      <td>19.000000</td>\n",
       "      <td>44.000000</td>\n",
       "      <td>0.000000</td>\n",
       "      <td>1.000000</td>\n",
       "      <td>4.893245</td>\n",
       "    </tr>\n",
       "    <tr>\n",
       "      <th>max</th>\n",
       "      <td>2583.000000</td>\n",
       "      <td>19335.000000</td>\n",
       "      <td>1.000000</td>\n",
       "      <td>23.000000</td>\n",
       "      <td>59.000000</td>\n",
       "      <td>1.000000</td>\n",
       "      <td>1.000000</td>\n",
       "      <td>15.083333</td>\n",
       "    </tr>\n",
       "  </tbody>\n",
       "</table>\n",
       "</div>"
      ],
      "text/plain": [
       "           duration      distance           day          hour        minute  \\\n",
       "count  55544.000000  55544.000000  55544.000000  55544.000000  55544.000000   \n",
       "mean     599.311087   2698.888503      0.345834     15.118879     29.182306   \n",
       "std      523.569971   3361.819633      0.475644      5.603220     17.349417   \n",
       "min        7.000000      0.000000      0.000000      0.000000      0.000000   \n",
       "25%      217.000000    581.000000      0.000000     13.000000     14.000000   \n",
       "50%      433.000000   1481.000000      0.000000     16.000000     29.000000   \n",
       "75%      834.000000   3522.000000      1.000000     19.000000     44.000000   \n",
       "max     2583.000000  19335.000000      1.000000     23.000000     59.000000   \n",
       "\n",
       "              night     afternoon         speed  \n",
       "count  55544.000000  55544.000000  55544.000000  \n",
       "mean       0.102783      0.457277      3.891875  \n",
       "std        0.303678      0.498176      2.419979  \n",
       "min        0.000000      0.000000      0.000000  \n",
       "25%        0.000000      0.000000      2.349597  \n",
       "50%        0.000000      0.000000      3.524687  \n",
       "75%        0.000000      1.000000      4.893245  \n",
       "max        1.000000      1.000000     15.083333  "
      ]
     },
     "execution_count": 25,
     "metadata": {},
     "output_type": "execute_result"
    }
   ],
   "source": [
    "df[df[\"metric\"] == \"linear\"].describe()"
   ]
  },
  {
   "cell_type": "markdown",
   "metadata": {},
   "source": [
    "We can perform a simple t-test to evaluate if the two distributions have no noticeable difference: if _p-value_ > 0.05 we can accept the _null_ hypothesis that the two \n",
    "distributions' means are the same."
   ]
  },
  {
   "cell_type": "code",
   "execution_count": 28,
   "metadata": {},
   "outputs": [
    {
     "name": "stdout",
     "output_type": "stream",
     "text": [
      "t-test score: -1.5755181926011994\n",
      "p-value: 0.11513975033156397\n"
     ]
    }
   ],
   "source": [
    "# Let's get a sense of it\n",
    "t2, p2 = st.ttest_ind(df[df[\"metric\"] == \"custom\"].speed, df[df[\"metric\"] != \"custom\"].speed)\n",
    "\n",
    "print(f\"t-test score: {t2}\")\n",
    "print(f\"p-value: {p2}\")"
   ]
  },
  {
   "cell_type": "markdown",
   "metadata": {},
   "source": [
    "The approach highlighted above concludes that there's no statistical significance across the two groups (assuming a confidence interval = 0.095).\n",
    "Trusting this conclusion would lead to advice the product team **not** to implement any new API as it doesn't add any performance improvement over \n",
    "the current situation."
   ]
  },
  {
   "cell_type": "markdown",
   "metadata": {},
   "source": [
    "## Double check with CatBoost"
   ]
  },
  {
   "cell_type": "markdown",
   "metadata": {},
   "source": [
    "### Trying to predict travel time "
   ]
  },
  {
   "cell_type": "markdown",
   "metadata": {},
   "source": [
    "Even if we're almost sure there is no difference between the two groups, for the sake of completeness, we will confirm this with an _indirect_ approach.\n",
    "By establishing that the type of API used has no effect on predicting trip **duration** or **speed**.  "
   ]
  },
  {
   "cell_type": "code",
   "execution_count": 29,
   "metadata": {},
   "outputs": [
    {
     "data": {
      "text/plain": [
       "Index(['duration', 'distance', 'started_at', 'trip_id', 'vehicle_id',\n",
       "       'city_id', 'type', 'day', 'hour', 'minute', 'night', 'afternoon',\n",
       "       'metric', 'speed'],\n",
       "      dtype='object')"
      ]
     },
     "execution_count": 29,
     "metadata": {},
     "output_type": "execute_result"
    }
   ],
   "source": [
    "df.columns"
   ]
  },
  {
   "cell_type": "code",
   "execution_count": 39,
   "metadata": {},
   "outputs": [],
   "source": [
    "from sklearn.preprocessing import OneHotEncoder\n",
    "\n",
    "# One hot encode only some features\n",
    "df_final = pd.get_dummies(df, columns=[\"city_id\", \"type\", \"metric\"])"
   ]
  },
  {
   "cell_type": "code",
   "execution_count": 40,
   "metadata": {},
   "outputs": [
    {
     "data": {
      "text/html": [
       "<div>\n",
       "<style scoped>\n",
       "    .dataframe tbody tr th:only-of-type {\n",
       "        vertical-align: middle;\n",
       "    }\n",
       "\n",
       "    .dataframe tbody tr th {\n",
       "        vertical-align: top;\n",
       "    }\n",
       "\n",
       "    .dataframe thead th {\n",
       "        text-align: right;\n",
       "    }\n",
       "</style>\n",
       "<table border=\"1\" class=\"dataframe\">\n",
       "  <thead>\n",
       "    <tr style=\"text-align: right;\">\n",
       "      <th></th>\n",
       "      <th>duration</th>\n",
       "      <th>distance</th>\n",
       "      <th>started_at</th>\n",
       "      <th>trip_id</th>\n",
       "      <th>vehicle_id</th>\n",
       "      <th>day</th>\n",
       "      <th>hour</th>\n",
       "      <th>minute</th>\n",
       "      <th>night</th>\n",
       "      <th>afternoon</th>\n",
       "      <th>speed</th>\n",
       "      <th>city_id_bravos</th>\n",
       "      <th>city_id_pentos</th>\n",
       "      <th>city_id_volantis</th>\n",
       "      <th>type_driving_to_destination</th>\n",
       "      <th>type_going_to_pickup</th>\n",
       "      <th>metric_custom</th>\n",
       "      <th>metric_linear</th>\n",
       "    </tr>\n",
       "  </thead>\n",
       "  <tbody>\n",
       "    <tr>\n",
       "      <th>0</th>\n",
       "      <td>857.0</td>\n",
       "      <td>5384.0</td>\n",
       "      <td>2016-10-03 13:00:00.286999941</td>\n",
       "      <td>c00cee6963e0dc66e50e271239426914</td>\n",
       "      <td>52d38cf1a3240d5cbdcf730f2d9a47d6</td>\n",
       "      <td>1</td>\n",
       "      <td>13</td>\n",
       "      <td>0</td>\n",
       "      <td>0</td>\n",
       "      <td>0</td>\n",
       "      <td>6.282380</td>\n",
       "      <td>0</td>\n",
       "      <td>1</td>\n",
       "      <td>0</td>\n",
       "      <td>1</td>\n",
       "      <td>0</td>\n",
       "      <td>1</td>\n",
       "      <td>0</td>\n",
       "    </tr>\n",
       "    <tr>\n",
       "      <th>1</th>\n",
       "      <td>245.0</td>\n",
       "      <td>1248.0</td>\n",
       "      <td>2016-10-03 13:00:00.852999926</td>\n",
       "      <td>427425e1f4318ca2461168bdd6e4fcbd</td>\n",
       "      <td>8336b28f24c3e7a1e3d582073b164895</td>\n",
       "      <td>1</td>\n",
       "      <td>13</td>\n",
       "      <td>0</td>\n",
       "      <td>0</td>\n",
       "      <td>0</td>\n",
       "      <td>5.093878</td>\n",
       "      <td>0</td>\n",
       "      <td>0</td>\n",
       "      <td>1</td>\n",
       "      <td>0</td>\n",
       "      <td>1</td>\n",
       "      <td>0</td>\n",
       "      <td>1</td>\n",
       "    </tr>\n",
       "    <tr>\n",
       "      <th>2</th>\n",
       "      <td>1249.0</td>\n",
       "      <td>5847.0</td>\n",
       "      <td>2016-10-03 13:00:01.670000076</td>\n",
       "      <td>757867f6d7c00ef92a65bfaa3895943f</td>\n",
       "      <td>8885c59374cc539163e83f01ed59fd16</td>\n",
       "      <td>1</td>\n",
       "      <td>13</td>\n",
       "      <td>0</td>\n",
       "      <td>0</td>\n",
       "      <td>0</td>\n",
       "      <td>4.681345</td>\n",
       "      <td>0</td>\n",
       "      <td>1</td>\n",
       "      <td>0</td>\n",
       "      <td>1</td>\n",
       "      <td>0</td>\n",
       "      <td>0</td>\n",
       "      <td>1</td>\n",
       "    </tr>\n",
       "    <tr>\n",
       "      <th>3</th>\n",
       "      <td>471.0</td>\n",
       "      <td>2585.0</td>\n",
       "      <td>2016-10-03 13:00:01.841000080</td>\n",
       "      <td>d09d1301d361f7359d0d936557d10f89</td>\n",
       "      <td>81b63920454f70b6755a494e3b28b3a7</td>\n",
       "      <td>1</td>\n",
       "      <td>13</td>\n",
       "      <td>0</td>\n",
       "      <td>0</td>\n",
       "      <td>0</td>\n",
       "      <td>5.488323</td>\n",
       "      <td>1</td>\n",
       "      <td>0</td>\n",
       "      <td>0</td>\n",
       "      <td>0</td>\n",
       "      <td>1</td>\n",
       "      <td>1</td>\n",
       "      <td>0</td>\n",
       "    </tr>\n",
       "    <tr>\n",
       "      <th>4</th>\n",
       "      <td>182.0</td>\n",
       "      <td>743.0</td>\n",
       "      <td>2016-10-03 13:00:01.970000029</td>\n",
       "      <td>00f20a701f0ec2519353ef3ffaf75068</td>\n",
       "      <td>b73030977cbad61c9db55418909864fa</td>\n",
       "      <td>1</td>\n",
       "      <td>13</td>\n",
       "      <td>0</td>\n",
       "      <td>0</td>\n",
       "      <td>0</td>\n",
       "      <td>4.082418</td>\n",
       "      <td>0</td>\n",
       "      <td>1</td>\n",
       "      <td>0</td>\n",
       "      <td>0</td>\n",
       "      <td>1</td>\n",
       "      <td>0</td>\n",
       "      <td>1</td>\n",
       "    </tr>\n",
       "  </tbody>\n",
       "</table>\n",
       "</div>"
      ],
      "text/plain": [
       "   duration  distance                    started_at  \\\n",
       "0     857.0    5384.0 2016-10-03 13:00:00.286999941   \n",
       "1     245.0    1248.0 2016-10-03 13:00:00.852999926   \n",
       "2    1249.0    5847.0 2016-10-03 13:00:01.670000076   \n",
       "3     471.0    2585.0 2016-10-03 13:00:01.841000080   \n",
       "4     182.0     743.0 2016-10-03 13:00:01.970000029   \n",
       "\n",
       "                            trip_id                        vehicle_id  day  \\\n",
       "0  c00cee6963e0dc66e50e271239426914  52d38cf1a3240d5cbdcf730f2d9a47d6    1   \n",
       "1  427425e1f4318ca2461168bdd6e4fcbd  8336b28f24c3e7a1e3d582073b164895    1   \n",
       "2  757867f6d7c00ef92a65bfaa3895943f  8885c59374cc539163e83f01ed59fd16    1   \n",
       "3  d09d1301d361f7359d0d936557d10f89  81b63920454f70b6755a494e3b28b3a7    1   \n",
       "4  00f20a701f0ec2519353ef3ffaf75068  b73030977cbad61c9db55418909864fa    1   \n",
       "\n",
       "   hour  minute  night  afternoon     speed  city_id_bravos  city_id_pentos  \\\n",
       "0    13       0      0          0  6.282380               0               1   \n",
       "1    13       0      0          0  5.093878               0               0   \n",
       "2    13       0      0          0  4.681345               0               1   \n",
       "3    13       0      0          0  5.488323               1               0   \n",
       "4    13       0      0          0  4.082418               0               1   \n",
       "\n",
       "   city_id_volantis  type_driving_to_destination  type_going_to_pickup  \\\n",
       "0                 0                            1                     0   \n",
       "1                 1                            0                     1   \n",
       "2                 0                            1                     0   \n",
       "3                 0                            0                     1   \n",
       "4                 0                            0                     1   \n",
       "\n",
       "   metric_custom  metric_linear  \n",
       "0              1              0  \n",
       "1              0              1  \n",
       "2              0              1  \n",
       "3              1              0  \n",
       "4              0              1  "
      ]
     },
     "execution_count": 40,
     "metadata": {},
     "output_type": "execute_result"
    }
   ],
   "source": [
    "df_final.head()"
   ]
  },
  {
   "cell_type": "markdown",
   "metadata": {},
   "source": [
    "Now, we add a randomly assigned variable as a sanity-check for our model. The reasoning behind this is that all the features less important than the random variables\n",
    "are completely useless to the model (less informative than random). If `metric` (whether or not the new API was used for distance calculation) falls behind `random` we can\n",
    "safely affirm that it has no effect whatsoever in predicting `distacnce`."
   ]
  },
  {
   "cell_type": "code",
   "execution_count": 57,
   "metadata": {},
   "outputs": [],
   "source": [
    "# Randomly assign a variable\n",
    "df_final[\"random\"] = np.random.random(size=[df_final.shape[0],1])"
   ]
  },
  {
   "cell_type": "code",
   "execution_count": 58,
   "metadata": {},
   "outputs": [],
   "source": [
    "from sklearn.model_selection import train_test_split\n",
    "from sklearn.metrics import roc_auc_score\n",
    "from catboost import CatBoostClassifier, CatBoostRegressor\n",
    "\n",
    "x_train, x_test, y_train, y_test = train_test_split(df_final.drop(columns=[\"duration\", \"distance\", \"speed\"])._get_numeric_data(),\n",
    "                                                    df[\"speed\"])"
   ]
  },
  {
   "cell_type": "code",
   "execution_count": 59,
   "metadata": {},
   "outputs": [
    {
     "name": "stdout",
     "output_type": "stream",
     "text": [
      "Learning rate set to 0.213862\n",
      "0:\tlearn: 2.3120662\ttotal: 8.54ms\tremaining: 2.55s\n",
      "50:\tlearn: 2.1046451\ttotal: 318ms\tremaining: 1.55s\n",
      "100:\tlearn: 2.0906800\ttotal: 652ms\tremaining: 1.28s\n",
      "150:\tlearn: 2.0792630\ttotal: 931ms\tremaining: 919ms\n",
      "200:\tlearn: 2.0691019\ttotal: 1.2s\tremaining: 589ms\n",
      "250:\tlearn: 2.0605698\ttotal: 1.46s\tremaining: 286ms\n",
      "299:\tlearn: 2.0517902\ttotal: 1.73s\tremaining: 0us\n"
     ]
    },
    {
     "data": {
      "text/plain": [
       "<catboost.core.CatBoostRegressor at 0x7f0a1d6d1610>"
      ]
     },
     "execution_count": 59,
     "metadata": {},
     "output_type": "execute_result"
    }
   ],
   "source": [
    "cb = CatBoostRegressor(iterations=300, verbose=50)\n",
    "cb.fit(x_train, y_train)"
   ]
  },
  {
   "cell_type": "code",
   "execution_count": 61,
   "metadata": {},
   "outputs": [
    {
     "data": {
      "text/plain": [
       "0.27628510443506427"
      ]
     },
     "execution_count": 61,
     "metadata": {},
     "output_type": "execute_result"
    }
   ],
   "source": [
    "cb.score(x_train, y_train)"
   ]
  },
  {
   "cell_type": "code",
   "execution_count": 62,
   "metadata": {},
   "outputs": [
    {
     "data": {
      "text/plain": [
       "0.22739615883766795"
      ]
     },
     "execution_count": 62,
     "metadata": {},
     "output_type": "execute_result"
    }
   ],
   "source": [
    "cb.score(x_test, y_test)"
   ]
  },
  {
   "cell_type": "markdown",
   "metadata": {},
   "source": [
    "The model has worse performance than randomly guessing whether or not a trip was taken using the new api. So far we're confirming that there's no\n",
    "difference between the 2 apis."
   ]
  },
  {
   "cell_type": "code",
   "execution_count": 63,
   "metadata": {},
   "outputs": [],
   "source": [
    "def plot_feat_importance(cols, model_feats, cols_plotted=10, model_name=\"Catboost\"):\n",
    "    feat_importance = pd.Series(index=cols, data=np.abs(model_feats))\n",
    "    n_selected_features = (feat_importance > 0).sum()\n",
    "    plt.figure()\n",
    "    feat_importance.sort_values().tail(cols_plotted).plot(kind=\"bar\", figsize=(10,2))\n",
    "    plt.title(\"Feature importance for {}\".format(model_name))\n",
    "    plt.show()"
   ]
  },
  {
   "cell_type": "code",
   "execution_count": 64,
   "metadata": {},
   "outputs": [
    {
     "data": {
      "image/png": "[encoded data removed]",
      "text/plain": [
       "<Figure size 720x144 with 1 Axes>"
      ]
     },
     "metadata": {
      "needs_background": "light"
     },
     "output_type": "display_data"
    }
   ],
   "source": [
    "plot_feat_importance(cols=x_train.columns,\n",
    "                     model_feats=cb.get_feature_importance(),\n",
    "                     cols_plotted=15)"
   ]
  },
  {
   "cell_type": "markdown",
   "metadata": {},
   "source": [
    "`metric_linear` and `metric_custom` are way down the list (less important than random). Hence it is safe to say that \n",
    "the new API has no effect on the trip duration or speed."
   ]
  },
  {
   "cell_type": "markdown",
   "metadata": {},
   "source": [
    "### Verify if `metric` is randomly assigned"
   ]
  },
  {
   "cell_type": "markdown",
   "metadata": {},
   "source": [
    "Let's confirm that in our a/b test setting, `metric` was randomly assigned among observation and no selection bias is present in our\n",
    "experimental setting."
   ]
  },
  {
   "cell_type": "code",
   "execution_count": 68,
   "metadata": {},
   "outputs": [],
   "source": [
    "cb = CatBoostClassifier(iterations=300, verbose=50)"
   ]
  },
  {
   "cell_type": "code",
   "execution_count": 69,
   "metadata": {},
   "outputs": [
    {
     "data": {
      "text/plain": [
       "Index(['duration', 'distance', 'started_at', 'trip_id', 'vehicle_id', 'day',\n",
       "       'hour', 'minute', 'night', 'afternoon', 'speed', 'city_id_bravos',\n",
       "       'city_id_pentos', 'city_id_volantis', 'type_driving_to_destination',\n",
       "       'type_going_to_pickup', 'metric_custom', 'metric_linear', 'random'],\n",
       "      dtype='object')"
      ]
     },
     "execution_count": 69,
     "metadata": {},
     "output_type": "execute_result"
    }
   ],
   "source": [
    "df_final.columns"
   ]
  },
  {
   "cell_type": "code",
   "execution_count": 70,
   "metadata": {},
   "outputs": [],
   "source": [
    "x_train, x_test, y_train, y_test = train_test_split(df_final.drop(columns=[\"metric_linear\", \"metric_custom\"])._get_numeric_data(),\n",
    "                                                    df_final.metric_custom)"
   ]
  },
  {
   "cell_type": "code",
   "execution_count": 71,
   "metadata": {},
   "outputs": [
    {
     "name": "stdout",
     "output_type": "stream",
     "text": [
      "Learning rate set to 0.204766\n",
      "0:\tlearn: 0.6929505\ttotal: 47.1ms\tremaining: 14.1s\n",
      "50:\tlearn: 0.6871611\ttotal: 622ms\tremaining: 3.04s\n",
      "100:\tlearn: 0.6812140\ttotal: 1.18s\tremaining: 2.32s\n",
      "150:\tlearn: 0.6754191\ttotal: 1.72s\tremaining: 1.7s\n",
      "200:\tlearn: 0.6698845\ttotal: 2.28s\tremaining: 1.12s\n",
      "250:\tlearn: 0.6648546\ttotal: 2.83s\tremaining: 552ms\n",
      "299:\tlearn: 0.6602091\ttotal: 3.39s\tremaining: 0us\n"
     ]
    },
    {
     "data": {
      "text/plain": [
       "<catboost.core.CatBoostClassifier at 0x7f0a1d6c72d0>"
      ]
     },
     "execution_count": 71,
     "metadata": {},
     "output_type": "execute_result"
    }
   ],
   "source": [
    "cb.fit(x_train, y_train)"
   ]
  },
  {
   "cell_type": "code",
   "execution_count": 72,
   "metadata": {},
   "outputs": [
    {
     "data": {
      "image/png": "[encoded data removed]",
      "text/plain": [
       "<Figure size 720x144 with 1 Axes>"
      ]
     },
     "metadata": {
      "needs_background": "light"
     },
     "output_type": "display_data"
    }
   ],
   "source": [
    "plot_feat_importance(x_train.columns,\n",
    "                        cb.get_feature_importance(), 10)"
   ]
  },
  {
   "cell_type": "code",
   "execution_count": 92,
   "metadata": {},
   "outputs": [
    {
     "data": {
      "text/plain": [
       "[('random', 20.988360535381666),\n",
       " ('minute', 16.107026527136746),\n",
       " ('speed', 14.741576870895713),\n",
       " ('duration', 14.610947577431492),\n",
       " ('distance', 14.03678404190466),\n",
       " ('hour', 11.021529904699296),\n",
       " ('city_id_volantis', 1.6347248800994616),\n",
       " ('city_id_bravos', 1.6183810910595462),\n",
       " ('city_id_pentos', 1.49063539939274),\n",
       " ('day', 1.454926029863818),\n",
       " ('type_driving_to_destination', 0.7316748262308683),\n",
       " ('type_going_to_pickup', 0.7174303603234413),\n",
       " ('night', 0.5369729582683501),\n",
       " ('afternoon', 0.30902899731222)]"
      ]
     },
     "execution_count": 92,
     "metadata": {},
     "output_type": "execute_result"
    }
   ],
   "source": [
    "from operator import itemgetter\n",
    "\n",
    "sorted(list(zip(cb.feature_names_, cb.get_feature_importance())), key=itemgetter(1), reverse=True)"
   ]
  },
  {
   "cell_type": "markdown",
   "metadata": {},
   "source": [
    "Experimental setting is solid as the observations seems to be randomly assigned between the two groups (no bias artificially injected in the test). Once more,\n",
    "we can safely state that it wouldn't make sense to invest on implementing the road-distance API."
   ]
  },
  {
   "cell_type": "code",
   "execution_count": null,
   "metadata": {},
   "outputs": [],
   "source": []
  }
 ],
 "metadata": {
  "kernelspec": {
   "display_name": "useg",
   "language": "python",
   "name": "useg"
  },
  "language_info": {
   "codemirror_mode": {
    "name": "ipython",
    "version": 3
   },
   "file_extension": ".py",
   "mimetype": "text/x-python",
   "name": "python",
   "nbconvert_exporter": "python",
   "pygments_lexer": "ipython3",
   "version": "3.7.5"
  }
 },
 "nbformat": 4,
 "nbformat_minor": 4
}
